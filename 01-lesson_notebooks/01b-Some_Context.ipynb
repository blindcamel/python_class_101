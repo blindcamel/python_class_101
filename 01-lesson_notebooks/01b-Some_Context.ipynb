{
 "cells": [
  {
   "cell_type": "markdown",
   "metadata": {},
   "source": [
    "# Some Context\n",
    "## Algorithms\n",
    "An algorithm is a pattern for how to manipulate and transform information. It gives a sequence of step-by-step instructions for accomplishing some task. For example, you can think of a recipe as a kind of algorithm, since it gives you a sequence of step-by-step instructions for making some food item. So why do I say that an algorithm is a pattern? Because you will usually want your algorithm to work for all cases of a problem, not just one specific case. For example, if you write a program that applies a filter to a photo, you probably want it to work for any photo, not just one specific photo. In order to write an algorithm for this task, you have to see the pattern of what's similar about applying the filter to different photos and express that pattern in your algorithm."
   ]
  },
  {
   "cell_type": "markdown",
   "metadata": {},
   "source": [
    "## Computers\n",
    "We take computers for granted - they're a ubiquitous part of modern society. However they're really a pretty amazing concept. Not so much dedicated computing devices that just carry out one kind of task - those are more or less an advanced form of the tool-making that people have engaged in for millennia. But the idea of a general purpose programmable machine that can carry out any computational process you describe to it (as an algorithm) was revolutionary. Not right away - Charles Babbage first described the idea for his Analytical Engine in 1837, and it wasn't until 1941, more than a century later, that the first such machine was built - but once technology and people's imaginations caught up with the idea, it transformed our world.\n",
    "\n",
    "Most modern computers follow a similar architecture that has the following basic components:\n",
    "\n",
    "1. A CPU (central processing unit) is the processor that decodes and executes machine language instructions. These days many computers contain multiple processors.\n",
    "2. RAM (random access memory) is not actually random. \"Random access\" just means that you can access data anywhere in that memory. RAM is volatile, meaning that everything stored there disappears when you turn off the computer.\n",
    "3. Secondary storage devices are where everything that you install or save on your computer is stored. This used to include magnetic tapes, floppy disks, and CDs, but now the most common examples are internal hard drives and USB drives, and sometimes external hard drives for backup purposes or for storing large amounts of data. This kind of memory is slower than RAM, but it doesn't go away when you turn off the computer. When you run a program or open a file, the computer will copy what you need into RAM for faster access. When you install or save something, a copy is made on a secondary storage device.\n"
   ]
  },
  {
   "cell_type": "markdown",
   "metadata": {},
   "source": [
    "## Computer Languages\n",
    "I mentioned in the overview that learning to program gives you a language in which to express algorithms. Algorithms are not tied to any specific form of expression, but for a computer to understand and execute our algorithms, we must use a mathematically precise grammar and syntax, i.e. a computer language. Such a language is also useful because it forces us to be very specific about how we want to manipulate or transform the relevant information - there is no room for ambiguity.\n",
    "\n",
    "Computer CPUs only understand their own **machine language**, which is pretty tedious to read or write programs in. \"High-level\" languages were written to be easier for humans to work with, but in order for the computer to understand them, they have to be translated to the machine language of the computer they're running on. This can be done either all at once beforehand (in a compiled language), or as the program is running (in an interpreted language). Python is an **interpreted** language."
   ]
  },
  {
   "cell_type": "markdown",
   "metadata": {},
   "source": [
    "## Computer Programs\n",
    "A computer program is just an algorithm that is expressed in some specific computer language."
   ]
  },
  {
   "cell_type": "markdown",
   "metadata": {},
   "source": [
    "## Python\n",
    "Python is a computer language created by Guido van Rossum, and was first released in 1991. It was named for the comedy troupe Monty Python, so in material about Python you'll occasionally run across references to their work. There are two main branches of Python - Python 2 (which is being phased out) and Python 3. They are very similar in many ways, but for this course we'll stick to Python 3.\n",
    "\n",
    "In this course and the next one, you will not learn everything there is to know about Python - that would be impossible. You will, however, learn a lot about Python and about computer programming in general."
   ]
  },
  {
   "cell_type": "markdown",
   "metadata": {},
   "source": [
    "## Jupyter Notebooks\n",
    "Jupyter notebooks are interactive  computing enviornements that have great utility for testing live code, reading explanatory text, embedding images and videos, and plenty of plotting and data visualization functionality we won't need. You can get a lot more detail on its functionality [here](https://nbviewer.org/github/jupyter/notebook/blob/master/docs/source/examples/Notebook/What%20is%20the%20Jupyter%20Notebook.ipynb).\n",
    "\n",
    "For our purposes, the notebooks will give us one stop place to read and study certain programming concepts while also applying those concepts in designated cells where we can write scripts meant to practice and play.\n",
    "\n",
    "Key things to know:\n",
    "   * Jupyter notebooks can be displayed in a web browser or an IDE that has the right kind of extensions or add-ons to interpret and display notebooks.\n",
    "   * Jupyter notebooks may be connected to a web browser, but that does  not mean its connected to the internet\n",
    "   * When blocks of code in a jupyter notebook, it's important to remember that re-running blocks of codes repeatedly can distort expected outputs. It's a good idea if your results seem out of sync with your expectations to try restarting your kernel and re-running the cells to see if the result is in line with your expectations.\n",
    "\n"
   ]
  },
  {
   "cell_type": "markdown",
   "metadata": {},
   "source": [
    "## Integrated Development Enviornment (IDE)\n",
    "Jupyter notebooks are just a convenient place to practice and read-up on concepts. But when we start building things of substance i.e. the projects, we need a more powerful tool. In this case, I'm recommending the IDE Visual Studio Code.\n",
    "\n",
    "An IDE is to programmers what Microsoft Word is to writers. It's a one-stop shop  to help us write, edit, build, and debug code."
   ]
  },
  {
   "cell_type": "markdown",
   "metadata": {},
   "source": []
  }
 ],
 "metadata": {
  "kernelspec": {
   "display_name": "Python 3",
   "language": "python",
   "name": "python3"
  },
  "language_info": {
   "codemirror_mode": {
    "name": "ipython",
    "version": 3
   },
   "file_extension": ".py",
   "mimetype": "text/x-python",
   "name": "python",
   "nbconvert_exporter": "python",
   "pygments_lexer": "ipython3",
   "version": "3.7.16 (default, Jan  9 2023, 01:23:12) \n[GCC 11.3.0]"
  },
  "vscode": {
   "interpreter": {
    "hash": "2a806d3aeacb674212bb9595bc81b7e00560d028deaf5d893b1185a2f7bac5ac"
   }
  }
 },
 "nbformat": 4,
 "nbformat_minor": 4
}
