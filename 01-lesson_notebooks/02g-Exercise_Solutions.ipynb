{
 "cells": [
  {
   "cell_type": "markdown",
   "metadata": {},
   "source": [
    "# Exercises Solutions\n",
    "## Print Statements and Types\n",
    "1. Write a statement that prints out the float value 188.67."
   ]
  },
  {
   "cell_type": "code",
   "execution_count": null,
   "metadata": {},
   "outputs": [],
   "source": [
    "print(188.67)"
   ]
  },
  {
   "cell_type": "markdown",
   "metadata": {},
   "source": [
    "2. Write a statement that prints out the string value `\"Knock knock, \"Who's There?\", \"Your Mom.\"`"
   ]
  },
  {
   "cell_type": "code",
   "execution_count": null,
   "metadata": {},
   "outputs": [],
   "source": [
    "print('''\"Knock knock, \"Who's There?\", \"Your Mom.\"''')"
   ]
  },
  {
   "cell_type": "markdown",
   "metadata": {},
   "source": [
    "3. Write a statement that prints out the bool value True (not the string value \"True\")."
   ]
  },
  {
   "cell_type": "code",
   "execution_count": null,
   "metadata": {},
   "outputs": [],
   "source": [
    "print(True)"
   ]
  },
  {
   "cell_type": "markdown",
   "metadata": {},
   "source": [
    "4. Write a statement that prints out the result of calling the type function on the value 77."
   ]
  },
  {
   "cell_type": "code",
   "execution_count": null,
   "metadata": {},
   "outputs": [],
   "source": [
    "print(type(77))"
   ]
  },
  {
   "cell_type": "markdown",
   "metadata": {},
   "source": [
    "5. Write a statement that prints out the type of the value `\"You talkin' to me?\"`"
   ]
  },
  {
   "cell_type": "code",
   "execution_count": null,
   "metadata": {},
   "outputs": [],
   "source": [
    "print(type(\"You talkin' to me\"))"
   ]
  },
  {
   "cell_type": "markdown",
   "metadata": {},
   "source": [
    "## Variables and Assignment\n",
    "1. Assign the value 3.14159 to a variable named pi, and then print out the value of that variable."
   ]
  },
  {
   "cell_type": "code",
   "execution_count": null,
   "metadata": {},
   "outputs": [],
   "source": [
    "pi: float = 3.14159 \n",
    "print(pi)"
   ]
  },
  {
   "cell_type": "markdown",
   "metadata": {},
   "source": [
    "2. Assign the value \"Nguyen\" to a variable named last_name, and then print out the value of that variable."
   ]
  },
  {
   "cell_type": "code",
   "execution_count": null,
   "metadata": {},
   "outputs": [],
   "source": [
    "last_name: str = \"Nguyen\"\n",
    "print(last_name)"
   ]
  },
  {
   "cell_type": "markdown",
   "metadata": {},
   "source": [
    " 3. Assign the value 16.4 to a variable named length, and then print out the type of the value that variable refers to."
   ]
  },
  {
   "cell_type": "code",
   "execution_count": null,
   "metadata": {},
   "outputs": [],
   "source": [
    "length: float = 16.4\n",
    "print(type(length))"
   ]
  },
  {
   "cell_type": "markdown",
   "metadata": {},
   "source": [
    "4. Assign the value \"blacksmith\" to a variable named occupation, and the print out the type of the value that variable refers to."
   ]
  },
  {
   "cell_type": "code",
   "execution_count": null,
   "metadata": {},
   "outputs": [],
   "source": [
    "occupation: str = \"blacksmith\"\n",
    "print(type(occupation))"
   ]
  },
  {
   "cell_type": "markdown",
   "metadata": {},
   "source": [
    "## Comments, Arithmetic, and String Concatenation\n",
    "1. Write a statement that prints out the remainder of 17 divided by 3."
   ]
  },
  {
   "cell_type": "code",
   "execution_count": null,
   "metadata": {},
   "outputs": [],
   "source": [
    "print( 17 % 3)"
   ]
  },
  {
   "cell_type": "markdown",
   "metadata": {},
   "source": [
    "2. Write a statement that prints out 3 to the 4th power."
   ]
  },
  {
   "cell_type": "code",
   "execution_count": null,
   "metadata": {},
   "outputs": [],
   "source": [
    "print(3 ** 4)"
   ]
  },
  {
   "cell_type": "markdown",
   "metadata": {},
   "source": [
    "1. Write a statement that finds the result of 17 divided by 6 and assigns it to a variable named conversion_ratio."
   ]
  },
  {
   "cell_type": "code",
   "execution_count": null,
   "metadata": {},
   "outputs": [],
   "source": [
    "conversion_ratio: float = 17/6"
   ]
  },
  {
   "cell_type": "markdown",
   "metadata": {},
   "source": [
    "4. Write code that first assigns 9 to a variable called num_planets, then subtracts 1 from it, so that num_planets will now equal 8."
   ]
  },
  {
   "cell_type": "code",
   "execution_count": null,
   "metadata": {},
   "outputs": [],
   "source": [
    "num_planets: int = 9\n",
    "num_planets -= 1"
   ]
  },
  {
   "cell_type": "markdown",
   "metadata": {},
   "source": [
    "5. Write code that assigns \"Doctor\" to a variable named title, assigns \"Strange\" to a variable called last_name, and then uses string concatenation to print out \"Doctor Strange\"."
   ]
  },
  {
   "cell_type": "code",
   "execution_count": null,
   "metadata": {},
   "outputs": [],
   "source": [
    "title: str = \"Doctor\"\n",
    "last_name: str = \"Strange\"\n",
    "print(title + \" \" + last_name)"
   ]
  },
  {
   "cell_type": "markdown",
   "metadata": {},
   "source": [
    "## Input and Casting\n",
    "1. Write code that asks the user for their name and then prints out \"Hello\" followed by their name."
   ]
  },
  {
   "cell_type": "code",
   "execution_count": null,
   "metadata": {},
   "outputs": [],
   "source": [
    "name: str = input(\"name?\")\n",
    "print(\"Hello\", name)"
   ]
  },
  {
   "cell_type": "markdown",
   "metadata": {},
   "source": [
    "2. Write code that asks the user for two numbers and then prints out \"The result is\" followed by the result of multiplying those numbers."
   ]
  },
  {
   "cell_type": "code",
   "execution_count": null,
   "metadata": {},
   "outputs": [],
   "source": [
    "first_num: float = float(input())\n",
    "second_num: float = float(input())\n",
    "print(\"The result is\", first_num * second_num)"
   ]
  },
  {
   "attachments": {},
   "cell_type": "markdown",
   "metadata": {},
   "source": [
    "3. Take two integers as inputs with variables called `dividend` and `divisor`. Then print out a statement replacing the variables (noted with <> brackets) with your inputs:\n",
    "```\n",
    "Please enter your dividend:\n",
    "    \n",
    "Please enter your divisor:\n",
    "\n",
    "<divisor> goes into <dividend> <i> times with <r> as the remainder.\n",
    "```"
   ]
  },
  {
   "cell_type": "code",
   "execution_count": null,
   "metadata": {},
   "outputs": [],
   "source": [
    "dividend: int = int(input(\"Please enter your dividend: \"))\n",
    "divisor: int = int(input(\"Please enter your divisor: \"))\n",
    "floor_divison: int = dividend // divisor\n",
    "remainder: int = dividend % divisor\n",
    "print(divisor, \"goes into\", dividend, floor_divison, \"times with\", remainder, \"as the remainder.\")"
   ]
  }
 ],
 "metadata": {
  "kernelspec": {
   "display_name": "Python 3",
   "language": "python",
   "name": "python3"
  },
  "language_info": {
   "codemirror_mode": {
    "name": "ipython",
    "version": 3
   },
   "file_extension": ".py",
   "mimetype": "text/x-python",
   "name": "python",
   "nbconvert_exporter": "python",
   "pygments_lexer": "ipython3",
   "version": "3.7.16 (default, Jan  9 2023, 01:23:12) \n[GCC 11.3.0]"
  },
  "vscode": {
   "interpreter": {
    "hash": "2a806d3aeacb674212bb9595bc81b7e00560d028deaf5d893b1185a2f7bac5ac"
   }
  }
 },
 "nbformat": 4,
 "nbformat_minor": 4
}
