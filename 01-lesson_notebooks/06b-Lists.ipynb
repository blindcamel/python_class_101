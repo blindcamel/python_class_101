{
 "cells": [
  {
   "cell_type": "markdown",
   "metadata": {},
   "source": [
    "# Lists"
   ]
  },
  {
   "attachments": {},
   "cell_type": "markdown",
   "metadata": {},
   "source": [
    "## Introduction\n",
    "A list is an ordered collection of objects of any type. You can have lists of floats, strings, objects made from classes you've defined, etc. You can even have lists contain other lists. You're allowed to mix the types of objects in a list, for example you can have a list that contains both integers and strings.\n",
    "\n",
    "Most lists contain multiple values, but we can have lists of one or zero values, which can be useful. Here are a few lists for you to interact with."
   ]
  },
  {
   "cell_type": "code",
   "execution_count": null,
   "metadata": {},
   "outputs": [],
   "source": [
    "some_primes = [2,3,5,7,11,13,17,19,23,29,31] # list with integers\n",
    "some_names = [\"Groucho\",\"Harpo\",\"Chico\",\"Zeppo\",\"Karl\"] # list with strings\n",
    "some_stuff = [98, \"Fido\", -34.925, [\"Phantom\", \"Tollbooth\"]] # list with a mix of integer, string, float, and nested list objects\n",
    "one = [\"just me\"] # a singleton list\n",
    "zero = [] # an empty list"
   ]
  },
  {
   "attachments": {},
   "cell_type": "markdown",
   "metadata": {},
   "source": [
    "## Type hinting with lists\n",
    "Type hinting can be used to specify the expected data type of elements in a list. In Python, you can use the List type from the typing module to specify the type of elements in a list. For example:\n",
    "\n",
    "```python\n",
    "from typing import List\n",
    "\n",
    "def get_average(numbers: List[float]) -> float:\n",
    "    return sum(numbers) / len(numbers)\n",
    "```\n",
    "In the example above, the get_average function takes a single argument, numbers, which is expected to be a list of float values. The List[float] syntax specifies that the numbers argument is a list whose elements are of type float. The function's return value is indicated to be of type float.\n",
    "\n",
    "One extra bit you probably noticed is the phraise `from typing import List`. We'll cover `import` statements, in the future, but for now just know that for type hinting with `Lists` (and other collection objects we'll talk about soon), we need to \"`import`\" the class \"`List`\" which comes from the \"`typing`\" module where a module is a file containing Python definitions and statements that can be used in other Python programs.\n",
    "\n",
    "So just remember to include `from typing import List` at the top of your project files when using lists in your module."
   ]
  },
  {
   "cell_type": "code",
   "execution_count": null,
   "metadata": {},
   "outputs": [],
   "source": [
    "# let's see how to run our examples from the beginning again execep this time with type hinting\n",
    "from typing import List\n",
    "\n",
    "some_primes: List[int] = [2,3,5,7,11,13,17,19,23,29,31] # list with integers\n",
    "some_names: List[str] = [\"Groucho\",\"Harpo\",\"Chico\",\"Zeppo\",\"Karl\"] # list with strings\n",
    "# Let's skip this one and talk about how to do type hinting with mixed data types\n",
    "# some_stuff: List[] = [98, \"Fido\", -34.925, [\"Phantom\", \"Tollbooth\"]] # list with a mix of integer, string, float, and nested list objects\n",
    "one = [\"just me\"] # a single"
   ]
  },
  {
   "attachments": {},
   "cell_type": "markdown",
   "metadata": {},
   "source": [
    "## Type hinting with **mixed** data types in collection object\n",
    "\n",
    "To type hint a list with a mix of items, you can use the `Union` type from the typing module. The `Union` type allows you to specify that a variable can be of one of several types. Let's take a look at how we'd type hint of the `some_stuff` variable."
   ]
  },
  {
   "cell_type": "code",
   "execution_count": null,
   "metadata": {},
   "outputs": [],
   "source": [
    "from typing import List, Union\n",
    "\n",
    "some_stuff: List[Union[int, str, float, List[str]]] = [98, \"Fido\", -34.925, [\"Phantom\", \"Tollbooth\"]]"
   ]
  },
  {
   "attachments": {},
   "cell_type": "markdown",
   "metadata": {},
   "source": [
    "In this code, the some_stuff variable is declared as a list of items that can be either an `int`, a `str`, a `float`, or a nested `list` of `str` values, using the `Union` type and the `List` type. The `List[Union[int, str, float, List[str]]]` syntax specifies that the `some_stuff` argument is a list whose elements can be one of `int`, `str`, `float`, or `List[str]` types."
   ]
  },
  {
   "attachments": {},
   "cell_type": "markdown",
   "metadata": {},
   "source": [
    "## Type hinting with **any** data type in collection object\n",
    "\n",
    "If your list can contain any type of object, you can use the `Any` type from the `typing` module to denote that in your type hint. The `Any` type indicates that the type of an object can be anything.\n",
    "\n",
    "If we used our `some_stuff` example from before, we could write it with the `Any` type like so:\n",
    "\n",
    "```python\n",
    "from typing import List, Any\n",
    "\n",
    "some_stuff: List[Any] = [98, \"Fido\", -34.925, [\"Phantom\", \"Tollbooth\"]]\n",
    "```\n",
    "It's important to note that using the Any type can make it harder to catch type errors at runtime and can also make the code less readable, as the type of the objects in the list is not specified. In general, it's recommended to use more specific types where possible."
   ]
  },
  {
   "attachments": {},
   "cell_type": "markdown",
   "metadata": {},
   "source": [
    "## `len`"
   ]
  },
  {
   "attachments": {},
   "cell_type": "markdown",
   "metadata": {},
   "source": [
    "With lists, `len()` returns the number of elements in the list:"
   ]
  },
  {
   "cell_type": "code",
   "execution_count": null,
   "metadata": {},
   "outputs": [],
   "source": [
    "len([\"Mary\",\"had\",\"a\",\"little\",\"lamb\"])"
   ]
  },
  {
   "cell_type": "code",
   "execution_count": null,
   "metadata": {},
   "outputs": [],
   "source": [
    "count: List[int] = [1,2,3,4,5]\n",
    "len(count)"
   ]
  },
  {
   "attachments": {},
   "cell_type": "markdown",
   "metadata": {},
   "source": [
    "## Indexing and slicing"
   ]
  },
  {
   "cell_type": "markdown",
   "metadata": {},
   "source": [
    "Indexing and slicing work the same with lists as they do with strings. For example, try entering these commands by typing them to the right of the little red arrow above. (Enter one line at a time.)"
   ]
  },
  {
   "cell_type": "code",
   "execution_count": null,
   "metadata": {},
   "outputs": [],
   "source": [
    "some_primes[0]"
   ]
  },
  {
   "cell_type": "code",
   "execution_count": null,
   "metadata": {},
   "outputs": [],
   "source": [
    "some_primes[0:10:2]"
   ]
  },
  {
   "cell_type": "code",
   "execution_count": null,
   "metadata": {},
   "outputs": [],
   "source": [
    "some_names[::-2]"
   ]
  },
  {
   "attachments": {},
   "cell_type": "markdown",
   "metadata": {},
   "source": [
    "When you index into a nested list to get a sublist, you can then index into that list. Try entering the following to get the list within `some_stuff`, then the item `\"Tollbooth\"` within that sublist, and then its first character:"
   ]
  },
  {
   "cell_type": "code",
   "execution_count": null,
   "metadata": {},
   "outputs": [],
   "source": [
    "some_stuff[3]"
   ]
  },
  {
   "cell_type": "code",
   "execution_count": null,
   "metadata": {},
   "outputs": [],
   "source": [
    "some_stuff[3][1]"
   ]
  },
  {
   "cell_type": "code",
   "execution_count": null,
   "metadata": {},
   "outputs": [],
   "source": [
    "some_stuff[3][1][0]"
   ]
  },
  {
   "attachments": {},
   "cell_type": "markdown",
   "metadata": {},
   "source": [
    "## `in`, `not in`"
   ]
  },
  {
   "cell_type": "markdown",
   "metadata": {},
   "source": [
    "Also like strings, we can use *in* and *not in*. With these two operators, the second operand can be of any iterable type, which includes both strings and lists, and the first operand can be of any type at all, including iterable types. Try these examples to see for yourself:"
   ]
  },
  {
   "cell_type": "code",
   "execution_count": null,
   "metadata": {},
   "outputs": [],
   "source": [
    "13 in some_primes"
   ]
  },
  {
   "cell_type": "code",
   "execution_count": null,
   "metadata": {},
   "outputs": [],
   "source": [
    "13 not in some_primes"
   ]
  },
  {
   "cell_type": "code",
   "execution_count": null,
   "metadata": {},
   "outputs": [],
   "source": [
    "\"Fido\" in some_stuff"
   ]
  },
  {
   "cell_type": "code",
   "execution_count": null,
   "metadata": {},
   "outputs": [],
   "source": [
    "\"Phantom\" in some_stuff"
   ]
  },
  {
   "cell_type": "code",
   "execution_count": null,
   "metadata": {},
   "outputs": [],
   "source": [
    "\"Phantom\" in some_stuff[3]"
   ]
  },
  {
   "attachments": {},
   "cell_type": "markdown",
   "metadata": {},
   "source": [
    "What happened with those last two examples? The string `\"Phantom\"` is not in `some_stuff` - it's in a list that's in `some_stuff`. That list is at index 3, so we were able to find it there.\n",
    "\n",
    "Let's look at some more things we can do, with new list examples."
   ]
  },
  {
   "cell_type": "code",
   "execution_count": null,
   "metadata": {},
   "outputs": [],
   "source": [
    "odds: List[int] = [7, 5, 9, 1, 13, 11, 3] # odd numbers\n",
    "evens: List[int] = [8, 4, 10, 6, 2] # even numbers\n",
    "palindromes: List[str] = [\"hannah\", \"tacocat\", \"bob\", \"mom\", \"dad\"]"
   ]
  },
  {
   "attachments": {},
   "cell_type": "markdown",
   "metadata": {},
   "source": [
    "## `min` and `max`, `sort`"
   ]
  },
  {
   "cell_type": "markdown",
   "metadata": {},
   "source": [
    "There are min and max functions we can use. Try these:"
   ]
  },
  {
   "cell_type": "code",
   "execution_count": null,
   "metadata": {},
   "outputs": [],
   "source": [
    "min(odds)"
   ]
  },
  {
   "cell_type": "code",
   "execution_count": null,
   "metadata": {},
   "outputs": [],
   "source": [
    "max(palindromes)"
   ]
  },
  {
   "attachments": {},
   "cell_type": "markdown",
   "metadata": {},
   "source": [
    "The min and max functions wouldn't make sense for things like `some_stuff` in the first set of list examples, since Python doesn't know how to compare the different types in that list. There's also a sort function we can use."
   ]
  },
  {
   "cell_type": "code",
   "execution_count": null,
   "metadata": {},
   "outputs": [],
   "source": [
    "evens.sort()"
   ]
  },
  {
   "cell_type": "code",
   "execution_count": null,
   "metadata": {},
   "outputs": [],
   "source": [
    "palindromes.sort()"
   ]
  },
  {
   "cell_type": "markdown",
   "metadata": {},
   "source": [
    "You'll notice that nothing prints out when you try those. But now look at the lists again:"
   ]
  },
  {
   "cell_type": "code",
   "execution_count": null,
   "metadata": {},
   "outputs": [],
   "source": [
    "evens"
   ]
  },
  {
   "cell_type": "code",
   "execution_count": null,
   "metadata": {},
   "outputs": [],
   "source": [
    "palindromes"
   ]
  },
  {
   "attachments": {},
   "cell_type": "markdown",
   "metadata": {},
   "source": [
    "The sort function also wouldn't make sense for `some_stuff` - again because Python doesn't know how to compare the different types in that list. (Try it and see!)"
   ]
  },
  {
   "cell_type": "code",
   "execution_count": null,
   "metadata": {},
   "outputs": [],
   "source": [
    "# Experiment here\n"
   ]
  },
  {
   "cell_type": "markdown",
   "metadata": {},
   "source": [
    "## Concatenation"
   ]
  },
  {
   "cell_type": "markdown",
   "metadata": {},
   "source": [
    "We can concatenate lists with the + operator."
   ]
  },
  {
   "cell_type": "code",
   "execution_count": null,
   "metadata": {},
   "outputs": [],
   "source": [
    "evens + odds"
   ]
  },
  {
   "cell_type": "markdown",
   "metadata": {},
   "source": [
    "Here's one more list example for us to practice on."
   ]
  },
  {
   "cell_type": "code",
   "execution_count": null,
   "metadata": {},
   "outputs": [],
   "source": [
    "fun_floats: List[float] = [3.141, 2.718, 6.283, 1.618, 1.414, 2.502, 0.577, 1.303, 2.685, 1.282]"
   ]
  },
  {
   "cell_type": "markdown",
   "metadata": {},
   "source": [
    "## Iterating through a List"
   ]
  },
  {
   "cell_type": "markdown",
   "metadata": {},
   "source": [
    "Lists are iterable, so we can use a for loop to access each element. For example, try this loop:"
   ]
  },
  {
   "cell_type": "code",
   "execution_count": null,
   "metadata": {},
   "outputs": [],
   "source": [
    "number: float\n",
    "for number in fun_floats:\n",
    "    print(number)"
   ]
  },
  {
   "cell_type": "markdown",
   "metadata": {},
   "source": [
    "The following loop prints out the total of the values in the list:"
   ]
  },
  {
   "cell_type": "code",
   "execution_count": null,
   "metadata": {},
   "outputs": [],
   "source": [
    "total: float = 0\n",
    "number: float\n",
    "for number in fun_floats:\n",
    "    total += number\n",
    "    print(total)"
   ]
  },
  {
   "attachments": {},
   "cell_type": "markdown",
   "metadata": {},
   "source": [
    "## Lists of objects"
   ]
  },
  {
   "attachments": {},
   "cell_type": "markdown",
   "metadata": {},
   "source": [
    "Let's reintroduce the `BankAccount` class we defined in Module 5:"
   ]
  },
  {
   "cell_type": "code",
   "execution_count": null,
   "metadata": {},
   "outputs": [],
   "source": [
    "class BankAccount:    \n",
    "    \"\"\"    \n",
    "    Represents a bank account that the user can deposit money to and    \n",
    "    withdraw money from.    \n",
    "    \"\"\"\n",
    "    \n",
    "    def __init__(self, account_ID: str, balance: float):        \n",
    "        \"\"\"\n",
    "        Creates a bank account object with an account ID and balance.\n",
    "        \"\"\"\n",
    "        self._account_ID: str = account_ID        \n",
    "        self._balance: float = balance    \n",
    "    \n",
    "    def get_account_ID(self) -> str:        \n",
    "        \"\"\"\n",
    "        Returns the account ID.\n",
    "        \"\"\"\n",
    "        return self._account_ID    \n",
    "    \n",
    "    def set_account_ID(self, new_ID) -> None:        \n",
    "        \"\"\"\n",
    "        Sets the account ID to a new value.\n",
    "        \"\"\"\n",
    "        self._account_ID = new_ID    \n",
    "  \n",
    "    def get_balance(self) -> float:        \n",
    "        \"\"\"\n",
    "        Returns the current balance.\n",
    "        \"\"\"        \n",
    "        return self._balance\n",
    "  \n",
    "    def deposit(self, amount: float) -> None:        \n",
    "        \"\"\"\n",
    "        Deposits the specified amount into the account.\n",
    "        \"\"\"        \n",
    "        self._balance += amount\n",
    "  \n",
    "    def withdraw(self, amount: float) -> None:        \n",
    "        \"\"\"\n",
    "        Withdraws the specified amount from the account.\n",
    "        \"\"\"        \n",
    "        self._balance -= amount"
   ]
  },
  {
   "cell_type": "markdown",
   "metadata": {},
   "source": [
    "We can make a list of BankAccount objects (which we defined in Module 5) like this:"
   ]
  },
  {
   "cell_type": "code",
   "execution_count": null,
   "metadata": {},
   "outputs": [],
   "source": [
    "account_1: BankAccount = BankAccount(\"235349\", 730.29)\n",
    "account_2: BankAccount = BankAccount(\"783848\", 240.89)\n",
    "account_3: BankAccount = BankAccount(\"732005\", 1390.20)\n",
    "account_list: List[BankAccount] = [account_1,account_2,account_3]"
   ]
  },
  {
   "cell_type": "markdown",
   "metadata": {},
   "source": [
    "What if we want to access the balance of the first account in the list?  We can do that like this:"
   ]
  },
  {
   "cell_type": "code",
   "execution_count": null,
   "metadata": {},
   "outputs": [],
   "source": [
    "account_list[0].get_balance()"
   ]
  },
  {
   "attachments": {},
   "cell_type": "markdown",
   "metadata": {},
   "source": [
    "Where `account_list[0]` gives us a BankAccount object and `.get_balance()` returns the balance of that object."
   ]
  },
  {
   "cell_type": "markdown",
   "metadata": {},
   "source": [
    "## List Comprehensions"
   ]
  },
  {
   "attachments": {},
   "cell_type": "markdown",
   "metadata": {},
   "source": [
    "List comprehensions are a concise way to construct a new list by applying some transformation to an existing list (or other iterable type). For example, the following code creates a new list whose elements are double the elements in `fun_floats`:"
   ]
  },
  {
   "cell_type": "code",
   "execution_count": null,
   "metadata": {},
   "outputs": [],
   "source": [
    "fun_floats_doubled = [2 * n for n in fun_floats]"
   ]
  },
  {
   "cell_type": "markdown",
   "metadata": {},
   "source": [
    "Here's a similar example that works from a range instead of a list:"
   ]
  },
  {
   "cell_type": "code",
   "execution_count": null,
   "metadata": {},
   "outputs": [],
   "source": [
    "[2 * x for x in range(1, 11)]"
   ]
  },
  {
   "cell_type": "markdown",
   "metadata": {},
   "source": [
    "We can optionally filter out certain values from the original list (or other iterable)."
   ]
  },
  {
   "cell_type": "code",
   "execution_count": null,
   "metadata": {},
   "outputs": [],
   "source": [
    "[2 * x for x in range(1, 11) if x % 2 == 1]"
   ]
  },
  {
   "cell_type": "markdown",
   "metadata": {},
   "source": [
    "In this example, the original iterable was a range. If a value in that range is odd (the remainder of dividing by 2 is 1), then we apply the transformation (multiplying by 2). Note that values are filtered out **before** the transformation is applied. If we had doubled the numbers and then filtered out the even ones, then the new list would have been empty.\n",
    "\n",
    "We can also use a list comprehension to filter without applying a transformation:"
   ]
  },
  {
   "cell_type": "code",
   "execution_count": null,
   "metadata": {},
   "outputs": [],
   "source": [
    "nums: List[int] = [1, 2, 3, 4, 5, 6, 7, 8, 9]\n",
    "[x for x in nums if x % 3 == 0]"
   ]
  },
  {
   "cell_type": "markdown",
   "metadata": {},
   "source": [
    "Don't let this new use of the **for** and **if** keywords confuse you. List comprehensions are a separate thing from for loops and if statements."
   ]
  },
  {
   "cell_type": "markdown",
   "metadata": {},
   "source": [
    "## Exercises"
   ]
  },
  {
   "attachments": {},
   "cell_type": "markdown",
   "metadata": {},
   "source": [
    "1. Write a function named `every_other` that takes as a parameter a list and returns a list that only contains every other element starting with the first one. For example, if the original list is `[7, \"joe\", \"apple\", 9.81, False]`, then the new list should be `[7, \"apple\", False]`. Use slicing."
   ]
  },
  {
   "cell_type": "code",
   "execution_count": null,
   "metadata": {},
   "outputs": [],
   "source": [
    "# Type code here\n"
   ]
  },
  {
   "attachments": {},
   "cell_type": "markdown",
   "metadata": {},
   "source": [
    "2. Write a function named `array_sum` that takes as a parameter a list of strings and returns the total number of characters in all the strings."
   ]
  },
  {
   "cell_type": "code",
   "execution_count": null,
   "metadata": {},
   "outputs": [],
   "source": [
    "# Type code here\n"
   ]
  },
  {
   "attachments": {},
   "cell_type": "markdown",
   "metadata": {},
   "source": [
    "3. Write a function named `rev_string_list` that takes as a parameter a list of strings and returns a list that contains the reverse of each of those strings. **Use a list comprehension**."
   ]
  },
  {
   "cell_type": "code",
   "execution_count": null,
   "metadata": {},
   "outputs": [],
   "source": [
    "# Type code here\n"
   ]
  },
  {
   "attachments": {},
   "cell_type": "markdown",
   "metadata": {},
   "source": [
    "4. Write a function named `contain_string` that takes as a parameter a list of strings and the target string, and returns a list of the strings from the original list that contain the target string. Use a list comprehension.  As an example, if the function call is `contain_string(['cats', 'tacks', 'scat', 'stack'], 'cat)`, then the return value should be `[\"cats\", \"scat\"]`, because `\"cats\"` and `\"scat\"` both contain `\"cat\"`."
   ]
  },
  {
   "cell_type": "code",
   "execution_count": null,
   "metadata": {},
   "outputs": [],
   "source": [
    "# Type code here\n"
   ]
  }
 ],
 "metadata": {
  "kernelspec": {
   "display_name": "Python 3",
   "language": "python",
   "name": "python3"
  },
  "language_info": {
   "codemirror_mode": {
    "name": "ipython",
    "version": 3
   },
   "file_extension": ".py",
   "mimetype": "text/x-python",
   "name": "python",
   "nbconvert_exporter": "python",
   "pygments_lexer": "ipython3",
   "version": "3.7.16 (default, Jan  9 2023, 01:23:12) \n[GCC 11.3.0]"
  },
  "vscode": {
   "interpreter": {
    "hash": "2a806d3aeacb674212bb9595bc81b7e00560d028deaf5d893b1185a2f7bac5ac"
   }
  }
 },
 "nbformat": 4,
 "nbformat_minor": 4
}
