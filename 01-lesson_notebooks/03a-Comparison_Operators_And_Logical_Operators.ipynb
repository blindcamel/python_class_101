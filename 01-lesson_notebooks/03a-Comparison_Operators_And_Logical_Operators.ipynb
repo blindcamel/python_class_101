{
 "cells": [
  {
   "cell_type": "markdown",
   "metadata": {},
   "source": [
    "# Comparison Operators and Logical Operators"
   ]
  },
  {
   "cell_type": "markdown",
   "metadata": {},
   "source": [
    "## Comparison Operators"
   ]
  },
  {
   "attachments": {},
   "cell_type": "markdown",
   "metadata": {},
   "source": [
    "We often need to compare two values. Is one value greater? lesser? equal to?\n",
    "\n",
    "Python has the following comparison operators:\n",
    "\n",
    "```python\n",
    "num_1 == num_2 # num_1 equals num_2\n",
    "num_1 != num_2 # num_1 does not equal num_2\n",
    "num_1 > num_2 # num_1 is greater than num_2\n",
    "num_1 < num_2 # num_1 is less than num_2\n",
    "num_1 >= num_2 # num_1 is greater than or equal to num_2\n",
    "num_1 <= num_2 # num_1 is less than or equal to num_2\n",
    "```"
   ]
  },
  {
   "attachments": {},
   "cell_type": "markdown",
   "metadata": {},
   "source": [
    "Each of the above **conditions** is either `True` or `False`, so if you print out the type of the comparison, you'll see that it's a bool value (`True` or `False`). \n",
    "\n",
    "For example:"
   ]
  },
  {
   "cell_type": "code",
   "execution_count": null,
   "metadata": {},
   "outputs": [],
   "source": [
    "17 < 5 # False"
   ]
  },
  {
   "cell_type": "code",
   "execution_count": null,
   "metadata": {},
   "outputs": [],
   "source": [
    "3 != 12 # True"
   ]
  },
  {
   "attachments": {},
   "cell_type": "markdown",
   "metadata": {},
   "source": [
    "Don't mix up the assignment operator (`=`) and the equality operator (`==`). It's a common mistake that can be hard to see.\n",
    "\n",
    "**You shouldn't test two floats for exact equality because of possible lack of precision or round-off errors.**  \n",
    "\n",
    "Instead, if you need to compare float values for equality, you can do something like this:\n",
    "\n",
    "```python\n",
    "abs(num_1 - num_2) < 0.000001\n",
    "```"
   ]
  },
  {
   "attachments": {},
   "cell_type": "markdown",
   "metadata": {},
   "source": [
    "This takes the absolute value of the difference between the two numbers and checks whether it's less than a very small value.\n",
    "\n",
    "Unlike many computer languages, Python allows you to chain comparison operators.  In Python you check if x is between 2 and 7 by saying\n",
    "\n",
    "```python\n",
    "2 < x < 7\n",
    "```\n",
    "    \n",
    "whereas in most languages you would need to write that as\n",
    "```python\n",
    "2 < x and x < 7\n",
    "```\n",
    "    \n",
    "The logical operator `and` is discussed in the following section."
   ]
  },
  {
   "cell_type": "markdown",
   "metadata": {},
   "source": [
    "## Logical Operators"
   ]
  },
  {
   "attachments": {},
   "cell_type": "markdown",
   "metadata": {},
   "source": [
    "Sometimes we need to combine comparisons. Python has the following logical operators:\n",
    "\n",
    "```python\n",
    "bool_1 and bool_2                  # Both bool_1 and bool_2 equal True\n",
    "bool_1 or bool_2                   # At least one of bool_1 and bool_2 equals True\n",
    "not bool_1                         # Flips the value of bool_1. If bool_1 is True not bool_1 is False and vice versa\n",
    "```\n",
    "    \n",
    "Each of these conditions is also either True or False."
   ]
  },
  {
   "cell_type": "code",
   "execution_count": null,
   "metadata": {},
   "outputs": [],
   "source": [
    "17 >= 10 and 5 % 2 == 0   # True and False, which equals False"
   ]
  },
  {
   "cell_type": "code",
   "execution_count": null,
   "metadata": {},
   "outputs": [],
   "source": [
    "17 >= 10 or 5 % 2 == 0    # True or False, which equals True"
   ]
  },
  {
   "cell_type": "code",
   "execution_count": null,
   "metadata": {},
   "outputs": [],
   "source": [
    "not 17 >= 10              # not True, which equals False"
   ]
  },
  {
   "attachments": {},
   "cell_type": "markdown",
   "metadata": {},
   "source": [
    "## Some Clarification\n",
    "\n",
    "Logical conditionals can appear confusing, but they're actually similar to everyday language. \n",
    "\n",
    "Consider two conditions, represented by `P` and `Q`. When `P` and `Q` are joined with the `and` operator, the statement is true only if both `P` and `Q` are true. For example, if someone asks *\"Do you have a car and a driver's license?\"* The answer would be yes only if you have **BOTH** a car **AND** a driver's license. On the other hand, the `or` operator makes the statement `True` if either `P` or `Q` (or both) are `True`. If someone asks *\"Do you have a car or a bike?\"* The answer would be yes if you have either a car or a bike (or both). \n",
    "\n",
    "The `not` operator simply reverses the truth value of a statement, so if `P` is `False`, then `not P` is `True` and vice versa."
   ]
  },
  {
   "attachments": {},
   "cell_type": "markdown",
   "metadata": {},
   "source": [
    "## A Common Syntax Error\n",
    "\n",
    "\n",
    "To check if num_x and num_y are both equal to 5, it is **not** correct to do the following:\n",
    "\n",
    "```python\n",
    "num_x and num_y == 5  # wrong\n",
    "```\n",
    "    \n",
    "since that would check whether `num_x` is `True` and `num_y==5` is `True`.  Instead, you would need to do this:\n",
    "\n",
    "```python\n",
    "num_x == 5 and num_y == 5\n",
    "```\n",
    "    \n",
    "or since we know we can chain comparisons:\n",
    "\n",
    "```python\n",
    "num_x == num_y == 5\n",
    "```"
   ]
  },
  {
   "cell_type": "markdown",
   "metadata": {},
   "source": [
    "## Exercises"
   ]
  },
  {
   "attachments": {},
   "cell_type": "markdown",
   "metadata": {},
   "source": [
    "1. Print the value of `17 < 5`."
   ]
  },
  {
   "cell_type": "code",
   "execution_count": null,
   "metadata": {},
   "outputs": [],
   "source": [
    "# type code here\n"
   ]
  },
  {
   "attachments": {},
   "cell_type": "markdown",
   "metadata": {},
   "source": [
    "2. Write code that reads a number from the user, assigns it to a variable, and then prints `True` if that value is greater than 10, but prints `False` otherwise."
   ]
  },
  {
   "cell_type": "code",
   "execution_count": null,
   "metadata": {},
   "outputs": [],
   "source": [
    "# type code here\n"
   ]
  },
  {
   "attachments": {},
   "cell_type": "markdown",
   "metadata": {},
   "source": [
    "3. Write code that reads a number from the user, assigns it to a variable, and then prints `True` if that value is between 50 and 100 (inclusive), but prints `False` otherwise."
   ]
  },
  {
   "cell_type": "code",
   "execution_count": null,
   "metadata": {},
   "outputs": [],
   "source": [
    "# type code here\n"
   ]
  }
 ],
 "metadata": {
  "kernelspec": {
   "display_name": "Python 3",
   "language": "python",
   "name": "python3"
  },
  "language_info": {
   "codemirror_mode": {
    "name": "ipython",
    "version": 3
   },
   "file_extension": ".py",
   "mimetype": "text/x-python",
   "name": "python",
   "nbconvert_exporter": "python",
   "pygments_lexer": "ipython3",
   "version": "3.7.16 (default, Jan  9 2023, 01:23:12) \n[GCC 11.3.0]"
  },
  "vscode": {
   "interpreter": {
    "hash": "2a806d3aeacb674212bb9595bc81b7e00560d028deaf5d893b1185a2f7bac5ac"
   }
  }
 },
 "nbformat": 4,
 "nbformat_minor": 4
}
