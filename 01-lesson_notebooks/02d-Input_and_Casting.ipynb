{
 "cells": [
  {
   "cell_type": "markdown",
   "source": [
    "# Input & Casting\n",
    "## Input Function\n",
    "The input() function reads typed input from the user. You can use it in a couple of ways. For example, if you want to ask the user for their name, you can do this:"
   ],
   "metadata": {}
  },
  {
   "cell_type": "code",
   "execution_count": null,
   "source": [
    "print(\"Please enter your name.\")\r\n",
    "name = input()\r\n",
    "print(\"Hi\", name)\r\n",
    "# make sure you actually enter something or this cell will keep running"
   ],
   "outputs": [],
   "metadata": {}
  },
  {
   "cell_type": "markdown",
   "source": [
    "Or you can do this:"
   ],
   "metadata": {}
  },
  {
   "cell_type": "code",
   "execution_count": null,
   "source": [
    "name = input(\"Please enter your name: \")\r\n",
    "# make sure you actually enter something or this cell will keep running"
   ],
   "outputs": [],
   "metadata": {}
  },
  {
   "cell_type": "markdown",
   "source": [
    "Notice that with the first way, your input will appear on the line after the prompt, and with the second way, your input would appear on the same line as the prompt.\n",
    "\n",
    "User input is always a string. If you want a numeric value from user input, then you need to cast the string to an int or a float."
   ],
   "metadata": {}
  },
  {
   "cell_type": "code",
   "execution_count": null,
   "source": [
    "age = int(input(\"Please enter your age: \"))\r\n",
    "height_in_meters = float(input(\"Please enter your height in meters: \"))\r\n",
    "# make sure you actually enter something or this cell will keep running"
   ],
   "outputs": [],
   "metadata": {}
  },
  {
   "cell_type": "markdown",
   "source": [
    "Each of the lines above combines two functions. First the input function gets a string from the user. Next the int() or float() function casts that string to a numeric value. That value is then assigned to the variable. We can call those functions on separate lines if we want:"
   ],
   "metadata": {}
  },
  {
   "cell_type": "code",
   "execution_count": null,
   "source": [
    "str_age = input(\"Please enter your age: \") # str_age will refer to a string value\r\n",
    "int_age = int(str_age) # int_age will refer to an int value\r\n",
    "# make sure you actually enter something or this cell will keep running"
   ],
   "outputs": [],
   "metadata": {}
  },
  {
   "cell_type": "markdown",
   "source": [
    "If the user enters a string that cannot be cast to the specified type, that causes an error. For example, if for height in meters we try to enter \"hi\", what happens?\n",
    "\n",
    "Here's an example that asks the user for two numbers and prints out their sum:"
   ],
   "metadata": {}
  },
  {
   "cell_type": "code",
   "execution_count": null,
   "source": [
    "print(\"Please enter two numbers.\")\r\n",
    "num_1 = float(input())\r\n",
    "num_2 = float(input())\r\n",
    "print(\"The sum is\", num_1 + num_2)"
   ],
   "outputs": [],
   "metadata": {}
  },
  {
   "cell_type": "markdown",
   "source": [
    "You can also cast an int to a float:"
   ],
   "metadata": {}
  },
  {
   "cell_type": "code",
   "execution_count": null,
   "source": [
    "float(18) "
   ],
   "outputs": [],
   "metadata": {}
  },
  {
   "cell_type": "markdown",
   "source": [
    "Or a float to an int, which truncates everything after the decimal point:"
   ],
   "metadata": {}
  },
  {
   "cell_type": "code",
   "execution_count": null,
   "source": [
    "int(3.25)"
   ],
   "outputs": [],
   "metadata": {}
  },
  {
   "cell_type": "markdown",
   "source": [
    "You can also cast values to strings with str()."
   ],
   "metadata": {}
  },
  {
   "cell_type": "code",
   "execution_count": null,
   "source": [
    "str(-9.4) "
   ],
   "outputs": [],
   "metadata": {}
  },
  {
   "cell_type": "code",
   "execution_count": null,
   "source": [
    "str(43)"
   ],
   "outputs": [],
   "metadata": {}
  },
  {
   "cell_type": "markdown",
   "source": [
    "## Exercises\n",
    "1. Write code that asks the user for their name and then prints out \"Hello\" followed by their name."
   ],
   "metadata": {}
  },
  {
   "cell_type": "code",
   "execution_count": 2,
   "source": [
    "# type code here\r\n",
    "name = input(\"What is your name\")\r\n",
    "print(\"My name is \", name)"
   ],
   "outputs": [],
   "metadata": {}
  },
  {
   "cell_type": "markdown",
   "source": [
    "2. Write code that asks the user for two numbers and then prints out \"The result is\" followed by the result of multiplying those numbers."
   ],
   "metadata": {}
  },
  {
   "cell_type": "code",
   "execution_count": null,
   "source": [
    "# type code here\r\n"
   ],
   "outputs": [],
   "metadata": {}
  },
  {
   "cell_type": "markdown",
   "source": [
    "3. Same as #2, but first store the result of multiplication in a variable and then use that variable when printing out the result."
   ],
   "metadata": {}
  },
  {
   "cell_type": "code",
   "execution_count": null,
   "source": [
    "# type code here\r\n"
   ],
   "outputs": [],
   "metadata": {}
  }
 ],
 "metadata": {
  "kernelspec": {
   "name": "python3",
   "display_name": "Python 3.8.2 32-bit"
  },
  "language_info": {
   "codemirror_mode": {
    "name": "ipython",
    "version": 3
   },
   "file_extension": ".py",
   "mimetype": "text/x-python",
   "name": "python",
   "nbconvert_exporter": "python",
   "pygments_lexer": "ipython3",
   "version": "3.8.2"
  },
  "interpreter": {
   "hash": "bbb5d64838647c9aec07659d427a5725e456c22b810c36799c15d93a85c48469"
  }
 },
 "nbformat": 4,
 "nbformat_minor": 4
}