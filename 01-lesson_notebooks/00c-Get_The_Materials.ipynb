{
 "cells": [
  {
   "attachments": {},
   "cell_type": "markdown",
   "metadata": {},
   "source": [
    "# Get the materials\n",
    "This is a work in progress. In the meantime, see: [00a-Tools_You_Will_Need.ipynb](../03-additional_material/00a-Tools_You_Will_Need.ipynb)"
   ]
  }
 ],
 "metadata": {
  "kernelspec": {
   "display_name": "Python 3",
   "language": "python",
   "name": "python3"
  },
  "language_info": {
   "name": "python",
   "version": "3.11.1 (main, Feb 12 2023, 14:34:36) [GCC 11.3.0]"
  },
  "orig_nbformat": 4,
  "vscode": {
   "interpreter": {
    "hash": "e9e699164e4a322cc4d7e5a175ae888281c7a6a570ea3d8a2c02e29901df6b06"
   }
  }
 },
 "nbformat": 4,
 "nbformat_minor": 2
}
