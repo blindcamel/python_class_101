{
 "cells": [
  {
   "cell_type": "markdown",
   "source": [
    "# Exercises Solutions\n",
    "## Print Statements and Types\n",
    "1. Write a statement that prints out the float value 188.67."
   ],
   "metadata": {}
  },
  {
   "cell_type": "code",
   "execution_count": null,
   "source": [
    "print(188.67)"
   ],
   "outputs": [],
   "metadata": {}
  },
  {
   "cell_type": "markdown",
   "source": [
    "2. Write a statement that prints out the string value \"Knock knock, \"Who's There?\", and \"Your Mom.\""
   ],
   "metadata": {}
  },
  {
   "cell_type": "code",
   "execution_count": null,
   "source": [
    "print('''Knock knock, \"Who's There?\", \"Your Mom.\"''')"
   ],
   "outputs": [],
   "metadata": {}
  },
  {
   "cell_type": "markdown",
   "source": [
    "3. Write a statement that prints out the bool value True (not the string value \"True\")."
   ],
   "metadata": {}
  },
  {
   "cell_type": "code",
   "execution_count": null,
   "source": [
    "print(True)"
   ],
   "outputs": [],
   "metadata": {}
  },
  {
   "cell_type": "markdown",
   "source": [
    "4. Write a statement that prints out the result of calling the type function on the value 77."
   ],
   "metadata": {}
  },
  {
   "cell_type": "code",
   "execution_count": null,
   "source": [
    "print(type(77))"
   ],
   "outputs": [],
   "metadata": {}
  },
  {
   "cell_type": "markdown",
   "source": [
    "5. Write a statement that prints out the type of the value \"What is your quest?\""
   ],
   "metadata": {}
  },
  {
   "cell_type": "code",
   "execution_count": null,
   "source": [
    "print(type(\"You a programmer yet?\"))"
   ],
   "outputs": [],
   "metadata": {}
  },
  {
   "cell_type": "markdown",
   "source": [
    "## Variables and Assignment\n",
    "1. Assign the value 3.14159 to a variable named pi, and then print out the value of that variable."
   ],
   "metadata": {}
  },
  {
   "cell_type": "code",
   "execution_count": null,
   "source": [
    "pi = 3.14159 \r\n",
    "print(pi)"
   ],
   "outputs": [],
   "metadata": {}
  },
  {
   "cell_type": "markdown",
   "source": [
    "2. Assign the value \"Nguyen\" to a variable named last_name, and then print out the value of that variable."
   ],
   "metadata": {}
  },
  {
   "cell_type": "code",
   "execution_count": null,
   "source": [
    "last_name = \"Nguyen\"\r\n",
    "print(last_name)"
   ],
   "outputs": [],
   "metadata": {}
  },
  {
   "cell_type": "markdown",
   "source": [
    "3. Assign the value 19.3 to a variable named length, and then print out the type of the value that variable refers to."
   ],
   "metadata": {}
  },
  {
   "cell_type": "code",
   "execution_count": null,
   "source": [
    "length = 16.4\r\n",
    "print(type(length))"
   ],
   "outputs": [],
   "metadata": {}
  },
  {
   "cell_type": "markdown",
   "source": [
    "4. Assign the value \"haberdashery\" to a variable named occupation, and the print out the type of the value that variable refers to."
   ],
   "metadata": {}
  },
  {
   "cell_type": "code",
   "execution_count": null,
   "source": [
    "occupation = \"blacksmith\"\r\n",
    "print(type(occupation))"
   ],
   "outputs": [],
   "metadata": {}
  },
  {
   "cell_type": "markdown",
   "source": [
    "## Comments, Arithmetic, and String Concatenation\n",
    "1. Write a statement that prints out the remainder of 17 divided by 3."
   ],
   "metadata": {}
  },
  {
   "cell_type": "code",
   "execution_count": null,
   "source": [
    "print(17%3)"
   ],
   "outputs": [],
   "metadata": {}
  },
  {
   "cell_type": "markdown",
   "source": [
    "2. Write a statement that prints out 2 to the 4th power."
   ],
   "metadata": {}
  },
  {
   "cell_type": "code",
   "execution_count": null,
   "source": [
    "print(3**4)"
   ],
   "outputs": [],
   "metadata": {}
  },
  {
   "cell_type": "markdown",
   "source": [
    "3. Write a statement that finds the result of 17 divided by 56 and assigns it to a variable named conversion_ratio."
   ],
   "metadata": {}
  },
  {
   "cell_type": "code",
   "execution_count": null,
   "source": [
    "conversion_ratio = 17/6"
   ],
   "outputs": [],
   "metadata": {}
  },
  {
   "cell_type": "markdown",
   "source": [
    "4. Write code that first assigns 9 to a variable called num_planets, then subtracts 1 from it, so that num_planets will now equal 8."
   ],
   "metadata": {}
  },
  {
   "cell_type": "code",
   "execution_count": null,
   "source": [
    "num_planets = 9\r\n",
    "num_planets -= 1"
   ],
   "outputs": [],
   "metadata": {}
  },
  {
   "cell_type": "markdown",
   "source": [
    "5. Write code that assigns \"Doctor\" to a variable named title, assigns \"Who\" to a variable called last_name, and then uses string concatenation to print out \"Doctor Who\"."
   ],
   "metadata": {}
  },
  {
   "cell_type": "code",
   "execution_count": null,
   "source": [
    "title = \"Doctor\"\r\n",
    "last_name = \"Who\"\r\n",
    "print(title + \" \" + last_name)"
   ],
   "outputs": [],
   "metadata": {}
  },
  {
   "cell_type": "markdown",
   "source": [
    "## Input and Casting\n",
    "1. Write code that asks the user for their name and then prints out \"Hello\" followed by their name."
   ],
   "metadata": {}
  },
  {
   "cell_type": "code",
   "execution_count": null,
   "source": [
    "name = input(\"name?\")\r\n",
    "print(\"Hello\", name)"
   ],
   "outputs": [],
   "metadata": {}
  },
  {
   "cell_type": "markdown",
   "source": [
    "2. Write code that asks the user for two numbers and then prints out \"The result is\" followed by the result of multiplying those numbers."
   ],
   "metadata": {}
  },
  {
   "cell_type": "code",
   "execution_count": null,
   "source": [
    "first_num = float(input())\r\n",
    "second_num = float(input())\r\n",
    "print(\"The result is\", first_num * second_num)"
   ],
   "outputs": [],
   "metadata": {}
  },
  {
   "cell_type": "markdown",
   "source": [
    "3. Same as #2, but first store the result of multiplication in a variable and then use that variable when printing out the result."
   ],
   "metadata": {}
  },
  {
   "cell_type": "code",
   "execution_count": null,
   "source": [
    "first_num = float(input())\r\n",
    "second_num = float(input())\r\n",
    "result = first_num * second_num\r\n",
    "print(result)"
   ],
   "outputs": [],
   "metadata": {}
  }
 ],
 "metadata": {
  "kernelspec": {
   "name": "python3",
   "display_name": "Python 3.8.2 32-bit"
  },
  "language_info": {
   "codemirror_mode": {
    "name": "ipython",
    "version": 3
   },
   "file_extension": ".py",
   "mimetype": "text/x-python",
   "name": "python",
   "nbconvert_exporter": "python",
   "pygments_lexer": "ipython3",
   "version": "3.8.2"
  },
  "interpreter": {
   "hash": "bbb5d64838647c9aec07659d427a5725e456c22b810c36799c15d93a85c48469"
  }
 },
 "nbformat": 4,
 "nbformat_minor": 4
}