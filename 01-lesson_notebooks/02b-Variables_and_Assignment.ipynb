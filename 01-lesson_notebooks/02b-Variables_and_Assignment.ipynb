{
 "cells": [
  {
   "cell_type": "markdown",
   "metadata": {},
   "source": [
    "# Variables & Assignment\n",
    "A variable is a name that refers to a particular value. It's called a variable because the value it refers to can change. An assignment statement assigns a value to a variable. If a variable of that name doesn't yet exist, then one is created. Assignment statements look like this:"
   ]
  },
  {
   "cell_type": "code",
   "execution_count": null,
   "metadata": {},
   "outputs": [],
   "source": [
    "radius = 19.2\n",
    "first_name = \"Jane\"\n",
    "is_even = True\n",
    "num_1 = 12"
   ]
  },
  {
   "cell_type": "markdown",
   "metadata": {},
   "source": [
    "Each of these statements causes the variable on the left side to refer to the value on the right side. It's also possible to have a variable on the right side of an assignment statement, in which case the variable on the left side will now refer to the same value as the variable on the right side. After the statement below, num_1 and num_2 will both refer to the value 12."
   ]
  },
  {
   "cell_type": "code",
   "execution_count": null,
   "metadata": {},
   "outputs": [],
   "source": [
    "num_2 = num_1"
   ]
  },
  {
   "cell_type": "markdown",
   "metadata": {},
   "source": [
    "You can print the value that a variable refers to like so:"
   ]
  },
  {
   "cell_type": "code",
   "execution_count": null,
   "metadata": {},
   "outputs": [],
   "source": [
    "print(radius)\n",
    "print(first_name)\n",
    "print(\"The value of is_even is\", is_even)"
   ]
  },
  {
   "attachments": {},
   "cell_type": "markdown",
   "metadata": {},
   "source": [
    "Variable names should be descriptive of their purpose to enhance the readability of your code. They must start with a letter or an underscore - subsequent characters can be numbers, letters or underscores. Variable names are case sensitive - radius, Radius, raDius, etc. would be interpreted as different variables. A variable name cannot be the same as a keyword. Python3 has the following keywords:"
   ]
  },
  {
   "cell_type": "markdown",
   "metadata": {},
   "source": [
    "- | - | - | - | -\n",
    "---|---|---|---|---\n",
    "False | class | finally | is | return\n",
    "True | continue | for | lambda|  try\n",
    "None | def | from | nonlocal | while\n",
    "and | del | global| not | with\n",
    "as | elif | if | or | yield\n",
    "assert | else | import | pass\n",
    "break | except | in | raise\n"
   ]
  },
  {
   "cell_type": "markdown",
   "metadata": {},
   "source": [
    "## Static Typing vs. Dynamic Typing\n",
    "\n",
    "Python is a dynamically typed language, meaning variables can change from type to type with any new assignment. For example, this is a legal statement in python:\n",
    "```python\n",
    "my_number = 57\n",
    "\n",
    "my_number = 'fifty-seven'\n",
    "```\n",
    "\n",
    "Dynamic typing can make for an easy introduction to programming, but can be quite problematic as your codebase gets more and more complex and ever changing variables are harder to track.\n",
    "\n",
    "To help you keep your variables straight, you can use the `type` function to see what type of value a variable currently refers to. See example below:"
   ]
  },
  {
   "cell_type": "code",
   "execution_count": null,
   "metadata": {},
   "outputs": [],
   "source": [
    "my_number = 57\n",
    "print(\"The type of my_number is \", type(my_number))\n",
    "my_number = \"fifty-seven\"\n",
    "print(\"The type of my_number is \", type(my_value))"
   ]
  },
  {
   "attachments": {},
   "cell_type": "markdown",
   "metadata": {},
   "source": [
    "### *Extra note*\n",
    "\n",
    "**For this exact reason, many popular languages use a system called static typing, whereby a variable type must be intially defined and cannot change without a properly defined operation. Python has added some capability to approximate static typing in later versions (while under the hood still not technically being static typing). This functionaltiy in Python will not be specifically covered in this iteration of this course, but it's worth understanding as it is commonly implemented among development teams that use Python.**\n",
    "\n",
    "Static typing in the programming language C++, for example, would look something like:\n",
    "```c++\n",
    "int myNumber = 57;\n",
    "\n",
    "string myString = \"fifty-seven\";\n",
    "```\n",
    "\n",
    "In C++, trying to simply reassign `myNumber` to a string or `myString` to an integer would result in errors."
   ]
  },
  {
   "attachments": {},
   "cell_type": "markdown",
   "metadata": {},
   "source": [
    "## Type Hinting\n",
    "Type hinting is a feature in Python that allows you to specify the expected data type of an argument or a variable in a function or a class. This information is not used by the Python interpreter at runtime, but it can be used by tools like IDEs, linters, and type checkers to provide better feedback to the developer, improve code documentation, and catch potential bugs early in the development process.\n",
    "\n",
    "Type hints are specified using annotations in the form of comments or strings immediately after the argument, parameter, or variable declaration. For example, the following function takes a string argument and returns an integer:\n",
    "```python\n",
    "name: str = \"Tuan Nguyen\"\n",
    "age: int = 33\n",
    "```\n",
    "In this example, the `: str` annotation after `name` indicates that `name` is a string variable, and the `: int` annotation after `age` indicates that `age` is an integer variable.\n",
    "\n",
    "However, it is important to keep in mind that type hints are technically only suggestions, and the Python interpreter will not enforce them at runtime like a compiler in a dynamically typed language. If you need to enforce the types of arguments or variables, you can use a type checker like [`mypy`](https://www.mypy-lang.org/)."
   ]
  },
  {
   "attachments": {},
   "cell_type": "markdown",
   "metadata": {},
   "source": [
    "## Best practice and what we'll do going forward in the course\n",
    "Type hinting is optional in Python, but it is considered a best practice to provide type hints in your code whenever possible, especially in larger projects where code documentation and maintainability are important. Actually \"declaring\" our types is far more common, especially in really influential langauges like C, C#, C++, and Java.\n",
    "\n",
    "As such, we'll treate type hinting as Gospel and use it in the training materials and in project solutions. We believe this will help fulfill the aim of learning good GENERAL programming practices and not overly niche language specific knowledge.\n",
    "\n",
    "Type hinting is an important tool that your future self will be glad you took the time to implement in your program when you inevitably forget what you originally intended only days after you wrote the code to begin with."
   ]
  },
  {
   "cell_type": "markdown",
   "metadata": {},
   "source": [
    "## Literals\n",
    "Literal values like 212, or -17.8, or \"Wichita\", or true, are often referred to simply as literals."
   ]
  },
  {
   "cell_type": "markdown",
   "metadata": {},
   "source": [
    "## Exercises\n",
    "1. Assign the value `3.14159` to a variable named `pi` with the appropriate type hint, and then print out the value of that variable."
   ]
  },
  {
   "cell_type": "code",
   "execution_count": null,
   "metadata": {},
   "outputs": [],
   "source": [
    "# type code here\n"
   ]
  },
  {
   "cell_type": "markdown",
   "metadata": {},
   "source": [
    "2. Assign the value `\"Nguyen\"` to a variable named `last_name` with an appropriate type hint, and then print out the value of that variable."
   ]
  },
  {
   "cell_type": "code",
   "execution_count": null,
   "metadata": {},
   "outputs": [],
   "source": [
    "# type code here\n"
   ]
  },
  {
   "cell_type": "markdown",
   "metadata": {},
   "source": [
    "3. Assign the value `16.4` to a variable named `length` with an appropriate type hint, and then print out the type of the value that variable refers to."
   ]
  },
  {
   "cell_type": "code",
   "execution_count": null,
   "metadata": {},
   "outputs": [],
   "source": [
    "# type code here\n"
   ]
  },
  {
   "cell_type": "markdown",
   "metadata": {},
   "source": [
    "4. Assign the value `\"blacksmith\"` to a variable named `occupation` with an appropriate type hint, and the print out the type of the value that variable refers to."
   ]
  },
  {
   "cell_type": "code",
   "execution_count": null,
   "metadata": {},
   "outputs": [],
   "source": [
    "# type code here\n"
   ]
  },
  {
   "attachments": {},
   "cell_type": "markdown",
   "metadata": {},
   "source": [
    "**Note in our execises today we're reminding you to add type hints... This is just a courtesy, future exercises and projects will just ASSUME you know to utilize type hinting. Python doesn't inherently enforce this, so listen to your better programming angels and utilize type hinting.**"
   ]
  }
 ],
 "metadata": {
  "kernelspec": {
   "display_name": "Python 3.8.2 32-bit",
   "name": "python382jvsc74a57bd0bbb5d64838647c9aec07659d427a5725e456c22b810c36799c15d93a85c48469"
  },
  "language_info": {
   "codemirror_mode": {
    "name": "ipython",
    "version": 3
   },
   "file_extension": ".py",
   "mimetype": "text/x-python",
   "name": "python",
   "nbconvert_exporter": "python",
   "pygments_lexer": "ipython3",
   "version": "3.8.2"
  }
 },
 "nbformat": 4,
 "nbformat_minor": 4
}
