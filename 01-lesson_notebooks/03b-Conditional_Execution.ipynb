{
 "cells": [
  {
   "attachments": {},
   "cell_type": "markdown",
   "metadata": {},
   "source": [
    "# Conditional Execution\n",
    "## `if` Statements\n",
    "The `if` statement enables us to define branches in our code based on whether a given condition is `True` or `False`. Here's a simple example:"
   ]
  },
  {
   "cell_type": "code",
   "execution_count": null,
   "metadata": {},
   "outputs": [],
   "source": [
    "num: int = 14\n",
    "if num % 2 == 0:    \n",
    "    print(\"num is even\")   # This line executes if and only if the condition is True\n",
    "else:    \n",
    "    print(\"num is odd\")    # This line executes if and only if the condition is False"
   ]
  },
  {
   "attachments": {},
   "cell_type": "markdown",
   "metadata": {},
   "source": [
    "The else case is optional. Both the `if` and `else` cases can contain as many statements as needed:"
   ]
  },
  {
   "cell_type": "code",
   "execution_count": null,
   "metadata": {},
   "outputs": [],
   "source": [
    "even_nums: int = 0\n",
    "odd_nums: int = 0\n",
    "\n",
    "num: int = 47\n",
    "if num % 2 == 0:\n",
    "    print(\"num is even\")    \n",
    "    even_nums += 1\n",
    "else:    \n",
    "    print(\"num is odd\")    \n",
    "    odd_nums += 1"
   ]
  },
  {
   "attachments": {},
   "cell_type": "markdown",
   "metadata": {},
   "source": [
    "Indentation is crucial for the proper functioning of a Python program. While indentation is important for readability in many programming languages, in Python it plays a larger role as it determines the grouping of statements. Code blocks related to a specific if statement, for example, are indented underneath, and a new block of related statements begins with a return to the original indentation.\n",
    "\n",
    "While the Python language does not dictate a specific number of spaces for indentation, it is generally recommended to indent 4 spaces, unless the existing code uses a different amount."
   ]
  },
  {
   "attachments": {},
   "cell_type": "markdown",
   "metadata": {},
   "source": [
    "## Nested `if` statements and `elif`\n",
    "You can also have nested `if` statements (`if` statements inside other `if` statements):"
   ]
  },
  {
   "cell_type": "code",
   "execution_count": null,
   "metadata": {},
   "outputs": [],
   "source": [
    "score: int = int(input(\"Enter a score: \"))\n",
    "grade: str = \"\"\n",
    "if score >= 90:    \n",
    "    grade = \"A\"\n",
    "else:    \n",
    "    if score >= 80:   # If we get here we already know the score is less than 90\n",
    "        grade = \"B\"    \n",
    "    else:        \n",
    "        if score >= 70:   # If we get here we already know the score is less than 80\n",
    "            grade = \"C\"        \n",
    "        else:            \n",
    "            if score >= 60:   # Etc.                \n",
    "                grade = \"D\"            \n",
    "            else:            \n",
    "                grade = \"F\"\n",
    "print(\"Letter grade = \", grade)"
   ]
  },
  {
   "attachments": {},
   "cell_type": "markdown",
   "metadata": {},
   "source": [
    "The indentation tells the Python interpreter which ifs and elses go together, however, this level of nesting can get a little hard to read, so the more common way to express this example would be:"
   ]
  },
  {
   "cell_type": "code",
   "execution_count": null,
   "metadata": {},
   "outputs": [],
   "source": [
    "score: int = int(input(\"Enter a score: \"))\n",
    "grade: str = \"\"\n",
    "if score >= 90:\n",
    "    grade = \"A\"\n",
    "elif score >= 80:\n",
    "    grade = \"B\"\n",
    "elif score >= 70:\n",
    "    grade = \"C\"\n",
    "elif score >= 60:\n",
    "    grade = \"D\"\n",
    "else:\n",
    "    grade = \"F\"\n",
    "print(\"Letter grade = \", grade)"
   ]
  },
  {
   "attachments": {},
   "cell_type": "markdown",
   "metadata": {},
   "source": [
    "Where `elif` is short for `else if`.\n"
   ]
  },
  {
   "attachments": {},
   "cell_type": "markdown",
   "metadata": {},
   "source": [
    "\n",
    "## Extra note on indentation\n",
    "Additionally, it's worth mentioning that in Python, indentation is **MANDATORY** and must be consistent throughout the code. This means that each code block must be indented to the same level, and every line within a block must have the same indentation. Mixing spaces and tabs for indentation is not recommended, as it can cause issues with code readability and portability.\n",
    "\n",
    "Furthermore, it's important to note that changing the indentation level of a code block can change its meaning, and can lead to unexpected results. For example, an if statement that is indented correctly to indicate that a block of code should be executed only if a certain condition is met, may not work as expected if the indentation is incorrect.\n",
    "\n",
    "Proper indentation is essential for writing correct and readable Python code, and should be given careful consideration when writing or modifying code. Consistent indentation and adherence to recommended conventions can greatly improve the readability and maintainability of your code."
   ]
  },
  {
   "cell_type": "markdown",
   "metadata": {},
   "source": [
    "## Exercises\n",
    "1. Write code that reads a number from the user, assigns it to a variable, and then prints \"in range\" if that value is between 50 and 100, but prints \"out of range\" otherwise."
   ]
  },
  {
   "cell_type": "code",
   "execution_count": null,
   "metadata": {},
   "outputs": [],
   "source": [
    "# type code here\n"
   ]
  },
  {
   "cell_type": "markdown",
   "metadata": {},
   "source": [
    "2. Write code that reads a number from the user, assigns it to a variable, and then prints \"small\" if it's less than 10, prints \"medium\" if it's at least 10 but less than 50, and prints \"large\" if it's at least 50."
   ]
  },
  {
   "cell_type": "code",
   "execution_count": null,
   "metadata": {},
   "outputs": [],
   "source": [
    "# type code here\n"
   ]
  },
  {
   "cell_type": "markdown",
   "metadata": {},
   "source": [
    "3. Write code that reads an integer from the user and assigns it to a variable. If that integer is a value from 1-5, your program should print out the English word for that number. Otherwise it should print \"input not recognized\"."
   ]
  },
  {
   "cell_type": "code",
   "execution_count": null,
   "metadata": {},
   "outputs": [],
   "source": [
    "# type code here\n"
   ]
  }
 ],
 "metadata": {
  "kernelspec": {
   "display_name": "Python 3",
   "language": "python",
   "name": "python3"
  },
  "language_info": {
   "codemirror_mode": {
    "name": "ipython",
    "version": 3
   },
   "file_extension": ".py",
   "mimetype": "text/x-python",
   "name": "python",
   "nbconvert_exporter": "python",
   "pygments_lexer": "ipython3",
   "version": "3.10.8"
  },
  "vscode": {
   "interpreter": {
    "hash": "043be558b016b9409e347fbe78a27f8cd8e6dd0e74b01ce2dd00b7a6b6cbae6b"
   }
  }
 },
 "nbformat": 4,
 "nbformat_minor": 4
}
