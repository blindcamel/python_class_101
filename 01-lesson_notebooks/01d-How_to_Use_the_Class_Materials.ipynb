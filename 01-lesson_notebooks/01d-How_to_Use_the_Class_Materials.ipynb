{
 "cells": [
  {
   "cell_type": "markdown",
   "metadata": {},
   "source": [
    "# How to use the class materials\n",
    "The material is composed of two parts:\n",
    "1. A series of Jupyter notebooks that contain all of the instructional content\n",
    "2. A series of projects that are to be practed on your IDE (Visual Studio Code)"
   ]
  }
 ],
 "metadata": {
  "language_info": {
   "name": "python"
  },
  "orig_nbformat": 4
 },
 "nbformat": 4,
 "nbformat_minor": 2
}
