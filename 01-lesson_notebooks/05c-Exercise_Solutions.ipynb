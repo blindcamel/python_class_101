{
 "cells": [
  {
   "cell_type": "markdown",
   "metadata": {},
   "source": [
    "# Exercise Solutions"
   ]
  },
  {
   "cell_type": "markdown",
   "metadata": {},
   "source": [
    "## Recursion"
   ]
  },
  {
   "attachments": {},
   "cell_type": "markdown",
   "metadata": {},
   "source": [
    "1. Write a **recursive** function called `countdown` that takes a positive integer parameter and returns a string that **counts down from that number to 1**. For example, if `5` is passed to the function, it should return the string `\"5 4 3 2 1\"`. You can use string concatenation in your recursive function to build up the return value."
   ]
  },
  {
   "cell_type": "code",
   "execution_count": null,
   "metadata": {},
   "outputs": [],
   "source": [
    "def countdown(n: int) -> str:\n",
    "    if n < 2:\n",
    "        return str(n)\n",
    "    return str(n)+\" \"+countdown(n-1)"
   ]
  },
  {
   "attachments": {},
   "cell_type": "markdown",
   "metadata": {},
   "source": [
    "2. Write a **recursive** function called `countup` that takes a positive integer parameter and returns a string that **counts up from 1 to that number**. For example, if `5` is passed to the function, it should return the string `\"1 2 3 4 5\"`. You can use string concatenation in your recursive function to build up the return value."
   ]
  },
  {
   "cell_type": "code",
   "execution_count": null,
   "metadata": {},
   "outputs": [],
   "source": [
    "def countup(n: int) -> str:\n",
    "    if n < 2:\n",
    "        return str(n)\n",
    "    \n",
    "    return countup(n-1)+\" \"+str(n)"
   ]
  },
  {
   "attachments": {},
   "cell_type": "markdown",
   "metadata": {},
   "source": [
    "3. Write a **recursive** function called `sum_countup` that takes an integer parameter and returns the sum of all the integers from 1 to that number. For example if the function is passed the value `5`, then it should return `15` because 1 + 2 + 3 + 4 + 5 = 15."
   ]
  },
  {
   "cell_type": "code",
   "execution_count": null,
   "metadata": {},
   "outputs": [],
   "source": [
    "def sum_countup(n: int) -> str:\n",
    "    if n == 1:\n",
    "        return 1\n",
    "    \n",
    "    return n + sum_countup(n-1)"
   ]
  },
  {
   "cell_type": "markdown",
   "metadata": {},
   "source": [
    "## Classes and Objects"
   ]
  },
  {
   "attachments": {},
   "cell_type": "markdown",
   "metadata": {},
   "source": [
    "1. Define a class named `HourlyWorker` that has three private data members: `_name`, `_ID`, and `_wage`. The class should have a docstring and an `init` method. The parameters to the `init` method should be in the order listed above."
   ]
  },
  {
   "cell_type": "code",
   "execution_count": null,
   "metadata": {},
   "outputs": [],
   "source": [
    "class HourlyWorker:\n",
    "    '''\n",
    "    Hourly worker with a name, ID and wage.\n",
    "    '''\n",
    "  \n",
    "    def __init__(self, name: str, ID: str, wage: float):\n",
    "        self._name: str = name\n",
    "        self._ID: str = ID\n",
    "        self._wage: float = wage"
   ]
  },
  {
   "attachments": {},
   "cell_type": "markdown",
   "metadata": {},
   "source": [
    "2. Define a class named `Box` that has three private data members:`_length`, `_width`, and `_height`. The class should have a docstring and an `init` method. The parameters to the `init` method should be in the order listed above. The class should also have a method named `volume` that returns the *volume* of the `Box`, and a method named `surface_area` that returns the *surface area* of the `Box`."
   ]
  },
  {
   "cell_type": "code",
   "execution_count": null,
   "metadata": {},
   "outputs": [],
   "source": [
    "class Box:\n",
    "    '''\n",
    "    A box with length, width and height\n",
    "    '''\n",
    "  \n",
    "    def __init__(self, length: float, width: float, height: float):\n",
    "        self._length = length\n",
    "        self._width = width\n",
    "        self._height = height\n",
    "    \n",
    "    def volume(self) -> float:\n",
    "        return (self._length*self._width*self._height)\n",
    "    \n",
    "    def surface_area(self) -> float:\n",
    "        l: float = self._length\n",
    "        w: float = self._width\n",
    "        h: float = self._height\n",
    "        return (2 * ((l*w)+(l*h)+(w*h)))"
   ]
  }
 ],
 "metadata": {
  "kernelspec": {
   "display_name": "Python 3",
   "language": "python",
   "name": "python3"
  },
  "language_info": {
   "codemirror_mode": {
    "name": "ipython",
    "version": 3
   },
   "file_extension": ".py",
   "mimetype": "text/x-python",
   "name": "python",
   "nbconvert_exporter": "python",
   "pygments_lexer": "ipython3",
   "version": "3.7.16 (default, Jan  9 2023, 01:23:12) \n[GCC 11.3.0]"
  },
  "vscode": {
   "interpreter": {
    "hash": "2a806d3aeacb674212bb9595bc81b7e00560d028deaf5d893b1185a2f7bac5ac"
   }
  }
 },
 "nbformat": 4,
 "nbformat_minor": 4
}
