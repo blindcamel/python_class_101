{
 "cells": [
  {
   "attachments": {},
   "cell_type": "markdown",
   "metadata": {},
   "source": [
    "# Type hinting with Dictionaries in Python prior to `3.9`\n",
    "Type hinting in Python can be used to specify the expected types of variables, including dictionaries. In the case of the state_capitals dictionary, you can add type hinting as follows:\n",
    "\n",
    "```python\n",
    "from typing import Dict\n",
    "\n",
    "state_capitals: Dict[str, str] = {\n",
    "    \"Washington\" : \"Olympia\",\n",
    "    \"Oregon\"     : \"Salem\",\n",
    "    \"Idaho\"      : \"Boise\",\n",
    "    \"Montana\"    : \"Helena\"\n",
    "}\n",
    "```\n",
    "\n",
    "In this code, we'e using our old friend, the `typing` module and importing the `Dict` type. The `state_capitals` variable is declared as a `Dict[str, str]`, indicating that it is a dictionary with keys of type `str` and values of type `str`."
   ]
  },
  {
   "attachments": {},
   "cell_type": "markdown",
   "metadata": {},
   "source": [
    "The keys in a dictionary must be immutable, but the associated values can be of any type. The keys are not required to all be the same type. You can even nest dictionaries. Here's an example of a dictionary with some string values and an integer value. For mixing expected types, we can use the `Union` method."
   ]
  },
  {
   "cell_type": "code",
   "execution_count": null,
   "metadata": {},
   "outputs": [],
   "source": [
    "from typing import Dict, Union\n",
    "\n",
    "capybara: Dict[str, Union[str, int]] = {\n",
    "    \"scientific name\"   : \"Hydrochoerus hydrochaeris\",   \n",
    "    \"lifespan in years\" : 10,   \n",
    "    \"classification\"    : \"rodent\",   \n",
    "    \"size\"              : \"unusual\"\n",
    "}"
   ]
  }
 ],
 "metadata": {
  "kernelspec": {
   "display_name": "Python 3",
   "language": "python",
   "name": "python3"
  },
  "language_info": {
   "codemirror_mode": {
    "name": "ipython",
    "version": 3
   },
   "file_extension": ".py",
   "mimetype": "text/x-python",
   "name": "python",
   "nbconvert_exporter": "python",
   "pygments_lexer": "ipython3",
   "version": "3.11.1 (main, Feb 12 2023, 14:34:36) [GCC 11.3.0]"
  },
  "vscode": {
   "interpreter": {
    "hash": "e9e699164e4a322cc4d7e5a175ae888281c7a6a570ea3d8a2c02e29901df6b06"
   }
  }
 },
 "nbformat": 4,
 "nbformat_minor": 4
}
