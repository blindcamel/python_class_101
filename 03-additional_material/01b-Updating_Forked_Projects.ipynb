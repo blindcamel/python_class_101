{
 "cells": [
  {
   "attachments": {},
   "cell_type": "markdown",
   "metadata": {},
   "source": [
    "\n",
    "\n",
    "# How to update or sync a forked repository from GitHub\n",
    "\n",
    "If you're unfamiliar with Git terms, commands, or the general workflow, you can review [01b-Git_Terminology_Commands_And_Workflow.ipynb](../03-additional_material/01b-Git_Terminology_Commands_And_Workflow.ipynb)\n",
    "\n",
    "## The Problem\n",
    "\n",
    "Let's say you have forked a repository on GitHub called `my-repo` and made some changes to your local copy of the repository. Meanwhile, the original repository you forked from has had some changes made to it by other contributors.\n",
    "\n",
    "Now you want to update your local copy of `my-repo` with the changes from the original \"upstream\" repository. Here's where the problem comes in - if you simply try to pull the changes from `upstream` into your local copy of `my-repo`, you may run into conflicts that need to be resolved manually.\n",
    "\n",
    "The solution is to add the `upstream` repository as a \"remote\"\\*  to your local copy of `my-repo`, fetch all branches from that remote, and then rebase your local copy of the `main` branch onto the `main` branch of the `upstream` repository. Let's see the solution below to understand better.\n",
    "\n",
    "\n",
    "\\**\"Remotes\" are like nicknames for the URLs of repositories. For instance, `origin` is probably the remote for your forked project.*\n",
    "\n",
    "## The Solution\n",
    "\n",
    "Here's a good [summary](https://stackoverflow.com/a/7244456/10380766) provided by \"Mark Longair\" on Stack Overflow. We've updated the provided commands with our related project:\n",
    "\n",
    "In your local clone of your forked repository, you can add the original GitHub repository as a \"remote\". Then you can fetch all the branches from that \"upstream\" repository, and rebase your work to continue working on the upstream version.  In terms of commands, this might look like the following:\n",
    "\n",
    "```bash\n",
    "# Add the remote, call it \"upstream\":\n",
    "    \n",
    "git remote add upstream git@github.com:branhoff/python_class_101.git\n",
    "    \n",
    "# Fetch all the branches of that remote into remote-tracking branches\n",
    "\n",
    "git fetch upstream\n",
    "\n",
    "# Make sure that you're on your master branch:\n",
    "    \n",
    "git checkout main\n",
    "    \n",
    "# Rewrite your master branch so that any commits of yours that\n",
    "# aren't already in upstream/master are replayed on top of that\n",
    "# other branch:\n",
    "\n",
    "git rebase upstream/main\n",
    "```\n",
    "\n",
    "For some additional details, you can see the linked StackOverflow post above."
   ]
  }
 ],
 "metadata": {
  "kernelspec": {
   "display_name": ".venv",
   "language": "python",
   "name": "python3"
  },
  "language_info": {
   "name": "python",
   "version": "3.11.1 (main, Feb 12 2023, 14:34:36) [GCC 11.3.0]"
  },
  "orig_nbformat": 4,
  "vscode": {
   "interpreter": {
    "hash": "70079cbbe2cc42f2592d5a55443ae9a6fc8ec5f7d810c21163e2b036cc83b19b"
   }
  }
 },
 "nbformat": 4,
 "nbformat_minor": 2
}
