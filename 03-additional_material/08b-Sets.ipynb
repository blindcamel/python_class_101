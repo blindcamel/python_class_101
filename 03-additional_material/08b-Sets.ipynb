{
 "cells": [
  {
   "attachments": {},
   "cell_type": "markdown",
   "metadata": {},
   "source": [
    "# Type hinting with sets prior to Python `3.9`\n"
   ]
  },
  {
   "cell_type": "code",
   "execution_count": null,
   "metadata": {},
   "outputs": [],
   "source": [
    "from typing import Set, Union\n",
    "\n",
    "some_ints: Set[int] = {1, -7, -3, 524, 0}\n",
    "some_elements: Set[Union[int, str, float, bool, tuple]] = {19, \"watermelon\", 12.6, False, (1,2,3)}\n",
    "empty: Set = set() # The empty set\n",
    "# Remember that {} would be an empty dictionary"
   ]
  },
  {
   "attachments": {},
   "cell_type": "markdown",
   "metadata": {},
   "source": [
    "In this code, the `typing` module is imported to provide access to the `Set` and `Union` types. The `some_ints` variable is declared as a `Set[int]`, indicating that it is a set of integers. The `some_elements` variable is declared as a `Set[Union[int, str, float, bool, tuple]]`, indicating that it is a set of elements that can be either integers, strings, floats, booleans, or tuples. The empty variable is declared as a `Set`, indicating that it is an empty set without any type restrictions."
   ]
  }
 ],
 "metadata": {
  "kernelspec": {
   "display_name": "Python 3",
   "language": "python",
   "name": "python3"
  },
  "language_info": {
   "codemirror_mode": {
    "name": "ipython",
    "version": 3
   },
   "file_extension": ".py",
   "mimetype": "text/x-python",
   "name": "python",
   "nbconvert_exporter": "python",
   "pygments_lexer": "ipython3",
   "version": "3.11.1 (main, Feb 12 2023, 14:34:36) [GCC 11.3.0]"
  },
  "vscode": {
   "interpreter": {
    "hash": "e9e699164e4a322cc4d7e5a175ae888281c7a6a570ea3d8a2c02e29901df6b06"
   }
  }
 },
 "nbformat": 4,
 "nbformat_minor": 4
}
