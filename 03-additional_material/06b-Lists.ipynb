{
 "cells": [
  {
   "attachments": {},
   "cell_type": "markdown",
   "metadata": {},
   "source": [
    "# List syntax prior to `3.9`\n",
    "Type hinting can be used to specify the expected data type of elements in a list. In Python, you can use the List type from the typing module to specify the type of elements in a list. For example:\n",
    "\n",
    "```python\n",
    "from typing import List\n",
    "\n",
    "def get_average(numbers: List[float]) -> float:\n",
    "    return sum(numbers) / len(numbers)\n",
    "```\n",
    "In the example above, the get_average function takes a single argument, numbers, which is expected to be a list of float values. The List[float] syntax specifies that the numbers argument is a list whose elements are of type float. The function's return value is indicated to be of type float.\n",
    "\n",
    "One extra bit you probably noticed is the phraise `from typing import List`. We'll cover `import` statements, in the future, but for now just know that for type hinting with `Lists` (and other collection objects we'll talk about soon), we need to \"`import`\" the class \"`List`\" which comes from the \"`typing`\" module where a module is a file containing Python definitions and statements that can be used in other Python programs.\n",
    "\n",
    "So just remember to include `from typing import List` at the top of your project files when using lists in your module."
   ]
  },
  {
   "cell_type": "code",
   "execution_count": null,
   "metadata": {},
   "outputs": [],
   "source": [
    "# let's see how to run our examples from the beginning again execep this time with type hinting\n",
    "from typing import List\n",
    "\n",
    "some_primes: List[int] = [2,3,5,7,11,13,17,19,23,29,31] # list with integers\n",
    "some_names: List[str] = [\"Groucho\",\"Harpo\",\"Chico\",\"Zeppo\",\"Karl\"] # list with strings\n",
    "# Let's skip this one and talk about how to do type hinting with mixed data types\n",
    "# some_stuff: List[] = [98, \"Fido\", -34.925, [\"Phantom\", \"Tollbooth\"]] # list with a mix of integer, string, float, and nested list objects\n",
    "one = [\"just me\"] # a single"
   ]
  },
  {
   "attachments": {},
   "cell_type": "markdown",
   "metadata": {},
   "source": [
    "## Type hinting with **mixed** data types in collection object\n",
    "\n",
    "To type hint a list with a mix of items, you can use the `Union` type from the typing module. The `Union` type allows you to specify that a variable can be of one of several types. Let's take a look at how we'd type hint of the `some_stuff` variable."
   ]
  },
  {
   "cell_type": "code",
   "execution_count": null,
   "metadata": {},
   "outputs": [],
   "source": [
    "from typing import List, Union\n",
    "\n",
    "some_stuff: List[Union[int, str, float, List[str]]] = [98, \"Fido\", -34.925, [\"Phantom\", \"Tollbooth\"]]"
   ]
  },
  {
   "attachments": {},
   "cell_type": "markdown",
   "metadata": {},
   "source": [
    "In this code, the some_stuff variable is declared as a list of items that can be either an `int`, a `str`, a `float`, or a nested `list` of `str` values, using the `Union` type and the `List` type. The `List[Union[int, str, float, List[str]]]` syntax specifies that the `some_stuff` argument is a list whose elements can be one of `int`, `str`, `float`, or `List[str]` types."
   ]
  },
  {
   "attachments": {},
   "cell_type": "markdown",
   "metadata": {},
   "source": [
    "## Type hinting with **any** data type in collection object\n",
    "\n",
    "If your list can contain any type of object, you can use the `Any` type from the `typing` module to denote that in your type hint. The `Any` type indicates that the type of an object can be anything.\n",
    "\n",
    "If we used our `some_stuff` example from before, we could write it with the `Any` type like so:\n",
    "\n",
    "```python\n",
    "from typing import List, Any\n",
    "\n",
    "some_stuff: List[Any] = [98, \"Fido\", -34.925, [\"Phantom\", \"Tollbooth\"]]\n",
    "```\n",
    "It's important to note that using the Any type can make it harder to catch type errors at runtime and can also make the code less readable, as the type of the objects in the list is not specified. In general, it's recommended to use more specific types where possible."
   ]
  }
 ],
 "metadata": {
  "kernelspec": {
   "display_name": "Python 3",
   "language": "python",
   "name": "python3"
  },
  "language_info": {
   "codemirror_mode": {
    "name": "ipython",
    "version": 3
   },
   "file_extension": ".py",
   "mimetype": "text/x-python",
   "name": "python",
   "nbconvert_exporter": "python",
   "pygments_lexer": "ipython3",
   "version": "3.11.1 (main, Feb 12 2023, 14:34:36) [GCC 11.3.0]"
  },
  "vscode": {
   "interpreter": {
    "hash": "e9e699164e4a322cc4d7e5a175ae888281c7a6a570ea3d8a2c02e29901df6b06"
   }
  }
 },
 "nbformat": 4,
 "nbformat_minor": 4
}
