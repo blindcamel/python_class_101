{
 "cells": [
  {
   "attachments": {},
   "cell_type": "markdown",
   "metadata": {},
   "source": [
    "# Type hinting with Tuples in Python prior to `3.9`\n",
    "To type hint tuples in Python, you can use the `Tuple` type from the `typing` module and specify the types of the individual elements in the tuple."
   ]
  },
  {
   "cell_type": "code",
   "execution_count": 3,
   "metadata": {},
   "outputs": [],
   "source": [
    "some_primes: tuple[int, int, int, int, int, int, int, int, int, int, int] = (2, 3, 5, 7, 11, 13, 17, 19, 23, 27, 31)\n",
    "some_names: tuple[str, str, str, str, str] = (\"Groucho\", \"Harpo\", \"Chico\", \"Zeppo\", \"Karl\")\n",
    "some_stuff: tuple[int, str, float, tuple[str, str]] = (98, \"Fido\", -4.925, (\"phantom\", \"tollbooth\"))\n",
    "zero: tuple[()] = () # the empty tuple\n",
    "\n",
    "one: tuple[str] = (\"just me\",)\n",
    "\n",
    "numbers: tuple[int, int, int] = (3, 2, 1)"
   ]
  },
  {
   "attachments": {},
   "cell_type": "markdown",
   "metadata": {},
   "source": [
    "In this code, each of the tuples is declared with a type hint using the `Tuple` type, indicating the types of the individual elements in the tuple. The type hint syntax uses a comma-separated list of types within square brackets to specify the types of the elements. For example, `Tuple[int, int, int]` specifies a tuple with three `int` elements. The `Tuple[()]` syntax is used to specify an empty tuple.\n",
    "\n",
    "\n",
    "Naturally, the syntax can be a little tedious if you have a large number items to declare in your Tuple.\n",
    "\n",
    "You can use the `Tuple` type from the typing module with the `...` syntax to specify that the tuple can contain any number of elements of any type.\n",
    "\n",
    "Here's an example of using the `Tuple` type to type hint a tuple without declaring individual elements:"
   ]
  },
  {
   "cell_type": "code",
   "execution_count": null,
   "metadata": {},
   "outputs": [],
   "source": [
    "from typing import Tuple\n",
    "\n",
    "some_primes: Tuple[int, ...] = (2, 3, 5, 7, 11, 13, 17, 19, 23, 27, 31)\n",
    "some_names: Tuple[str, ...] = (\"Groucho\", \"Harpo\", \"Chico\", \"Zeppo\", \"Karl\")\n",
    "some_stuff: Tuple[int, str, float, Tuple[str, ...]] = (98, \"Fido\", -4.925, (\"phantom\", \"tollbooth\"))\n",
    "zero: Tuple[()] = ()\n",
    "\n",
    "one: Tuple[str] = (\"just me\",)\n",
    "\n",
    "numbers: Tuple[int, ...] = (3, 2, 1)"
   ]
  },
  {
   "attachments": {},
   "cell_type": "markdown",
   "metadata": {},
   "source": [
    "In this code, the `Tuple` type is used with the `...` syntax to specify that each tuple can contain any number of elements of the specified type. For example, `Tuple[int, ...]` specifies a tuple that can contain any number of `int` elements.\n",
    "\n",
    "Using the `Tuple` type with the `...` syntax can make your code more concise and easier to read, as well as make it more flexible if you need to change the number of elements in your tuples in the future."
   ]
  }
 ],
 "metadata": {
  "kernelspec": {
   "display_name": "Python 3",
   "language": "python",
   "name": "python3"
  },
  "language_info": {
   "codemirror_mode": {
    "name": "ipython",
    "version": 3
   },
   "file_extension": ".py",
   "mimetype": "text/x-python",
   "name": "python",
   "nbconvert_exporter": "python",
   "pygments_lexer": "ipython3",
   "version": "3.11.1 (main, Feb 12 2023, 14:34:36) [GCC 11.3.0]"
  },
  "vscode": {
   "interpreter": {
    "hash": "e9e699164e4a322cc4d7e5a175ae888281c7a6a570ea3d8a2c02e29901df6b06"
   }
  }
 },
 "nbformat": 4,
 "nbformat_minor": 4
}
