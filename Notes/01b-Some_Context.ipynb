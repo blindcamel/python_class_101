{
 "cells": [
  {
   "cell_type": "markdown",
   "metadata": {},
   "source": [
    "# Some Context"
   ]
  },
  {
   "cell_type": "markdown",
   "metadata": {},
   "source": [
    "## Algorithms"
   ]
  },
  {
   "cell_type": "markdown",
   "metadata": {},
   "source": [
    "An algorithm is a pattern for how to manipulate and transform information. It gives a sequence of step-by-step instructions for accomplishing some task. For example, you can think of a recipe as a kind of algorithm, since it gives you a sequence of step-by-step instructions for making some food item. So why do I say that an algorithm is a pattern? Because you will usually want your algorithm to work for all cases of a problem, not just one specific case. For example, if you write a program that applies a filter to a photo, you probably want it to work for any photo, not just one specific photo. In order to write an algorithm for this task, you have to see the pattern of what's similar about applying the filter to different photos and express that pattern in your algorithm."
   ]
  },
  {
   "cell_type": "markdown",
   "metadata": {},
   "source": [
    "## Computers"
   ]
  },
  {
   "cell_type": "markdown",
   "metadata": {},
   "source": [
    "We take computers for granted - they're a ubiquitous part of modern society. However they're really a pretty amazing concept. Not so much dedicated computing devices that just carry out one kind of task - those are more or less an advanced form of the tool-making that people have engaged in for millennia. But the idea of a general purpose programmable machine that can carry out any computational process you describe to it (as an algorithm) was revolutionary. Not right away - Charles Babbage first described the idea for his Analytical Engine in 1837, and it wasn't until 1941, more than a century later, that the first such machine was built - but once technology and people's imaginations caught up with the idea, it transformed our world.\n",
    "\n",
    "Most modern computers follow a similar architecture that has the following basic components:\n",
    "\n",
    "1. A CPU (central processing unit) is the processor that decodes and executes machine language instructions. These days many computers contain multiple processors.\n",
    "2. RAM (random access memory) is not actually random. \"Random access\" just means that you can access data anywhere in that memory. RAM is volatile, meaning that everything stored there disappears when you turn off the computer.\n",
    "3. Secondary storage devices are where everything that you install or save on your computer is stored. This used to include magnetic tapes, floppy disks, and CDs, but now the most common examples are internal hard drives and USB drives, and sometimes external hard drives for backup purposes or for storing large amounts of data. This kind of memory is slower than RAM, but it doesn't go away when you turn off the computer. When you run a program or open a file, the computer will copy what you need into RAM for faster access. When you install or save something, a copy is made on a secondary storage device.\n"
   ]
  },
  {
   "cell_type": "markdown",
   "metadata": {},
   "source": [
    "## Computer Languages"
   ]
  },
  {
   "cell_type": "markdown",
   "metadata": {},
   "source": [
    "I mentioned in the overview that learning to program gives you a language in which to express algorithms. Algorithms are not tied to any specific form of expression, but for a computer to understand and execute our algorithms, we must use a mathematically precise grammar and syntax, i.e. a computer language. Such a language is also useful because it forces us to be very specific about how we want to manipulate or transform the relevant information - there is no room for ambiguity.\n",
    "\n",
    "Computer CPUs only understand their own **machine language**, which is pretty tedious to read or write programs in. \"High-level\" languages were written to be easier for humans to work with, but in order for the computer to understand them, they have to be translated to the machine language of the computer they're running on. This can be done either all at once beforehand (in a compiled language), or as the program is running (in an interpreted language). Python is an **interpreted** language."
   ]
  },
  {
   "cell_type": "markdown",
   "metadata": {},
   "source": [
    "## Computer Programs"
   ]
  },
  {
   "cell_type": "markdown",
   "metadata": {},
   "source": [
    "A computer program is just an algorithm that is expressed in some specific computer language."
   ]
  },
  {
   "cell_type": "markdown",
   "metadata": {},
   "source": [
    "## Python"
   ]
  },
  {
   "cell_type": "markdown",
   "metadata": {},
   "source": [
    "Python is a computer language created by Guido van Rossum, and was first released in 1991. It was named for the comedy troupe Monty Python, so in material about Python you'll occasionally run across references to their work. There are two main branches of Python - Python 2 (which is being phased out) and Python 3. They are very similar in many ways, but for this course we'll stick to Python 3.\n",
    "\n",
    "In this course and the next one, you will not learn everything there is to know about Python - that would be impossible. You will, however, learn a lot about Python and about computer programming in general."
   ]
  },
  {
   "cell_type": "code",
   "execution_count": null,
   "metadata": {},
   "outputs": [],
   "source": []
  }
 ],
 "metadata": {
  "kernelspec": {
   "display_name": "Python 3",
   "language": "python",
   "name": "python3"
  },
  "language_info": {
   "codemirror_mode": {
    "name": "ipython",
    "version": 3
   },
   "file_extension": ".py",
   "mimetype": "text/x-python",
   "name": "python",
   "nbconvert_exporter": "python",
   "pygments_lexer": "ipython3",
   "version": "3.8.2"
  }
 },
 "nbformat": 4,
 "nbformat_minor": 4
}
