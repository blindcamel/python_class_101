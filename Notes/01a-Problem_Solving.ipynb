{
 "cells": [
  {
   "cell_type": "markdown",
   "metadata": {},
   "source": [
    "# Problem Solving"
   ]
  },
  {
   "cell_type": "markdown",
   "metadata": {},
   "source": [
    "### Introduction"
   ]
  },
  {
   "cell_type": "markdown",
   "metadata": {},
   "source": [
    "How do you get from a set of requirements to a working program? There is no cut-and-dried recipe to follow. If there were, someone would write an app for it, and programmers would be out of a job. It can be tempting to just sit down at the keyboard and start typing out code, and that might even work okay for tiny simple problems, but for anything else, it can easily get you into a time-wasting morass of errors that you're not sure how to fix. To help you avoid that outcome, here are some general principles you can follow to help guide you toward a solution:\n",
    "\n",
    "    1. Understand the requirements\n",
    "    2. Design tests\n",
    "    3. Outline your approach\n",
    "    4. Translate your plan into code\n",
    "    5. Run your tests\n",
    "    6. Debug your code\n",
    "    7. Reflect on your process\n",
    "\n",
    "You may not find all of these steps useful (or at least not have to think about them consciously) for very small programs, but you should definitely keep them in mind for when you get to problems whose solutions are less obvious."
   ]
  },
  {
   "cell_type": "markdown",
   "metadata": {},
   "source": [
    "## Understand the requirements"
   ]
  },
  {
   "cell_type": "markdown",
   "metadata": {},
   "source": [
    "In real life this is sometimes the most challenging part, since sometimes your clients themselves won't have a super clear idea of exactly what they want, but for the assignments I give you all the requirements. However you may find it useful to go through the assignment specifications and put them in the form of a checklist. You may also think of something I haven't considered, in which case you should ask me for clarification."
   ]
  },
  {
   "cell_type": "markdown",
   "metadata": {},
   "source": [
    "## Design tests"
   ]
  },
  {
   "cell_type": "markdown",
   "metadata": {},
   "source": [
    "It's important to come up with test cases that are representative of how your code could be used. You want them to be good enough that if your code passes all your tests, you will feel confident that it correctly meets all of the requirements. It's also important that for each test, you decide what result(s) you expect from that test. If you don't do that ahead of time, then it can be easy to run a test, briefly look at the output, and convince yourself that it looks reasonable.\n",
    "\n",
    "How do you know what cases to test?\n",
    "\n",
    "* Special cases: for example if your program should compute the factorial of a number, the normal rule is that you take the product of all integers from 1 to that number, but zero is a special case, since the factorial of zero is 1, so zero should definitely be one of the test cases.\n",
    "\n",
    "* Boundary values: for example if a customer gets a special discount when they order 10 or more items, then you should check the numbers on both sides of that boundary (9 and 10) to make sure they're handled correctly.\n",
    "\n",
    "* Path coverage: you should have test cases that check different possible paths through your logic, to make sure the different paths give correct results.\n",
    "\n",
    "* Edge cases: extreme or unusual cases that might expose problems.\n",
    "\n",
    "* Unit tests: when your solution consists of multiple parts that each solve a piece of the problem, it's good to test each part separately, since it's easier to debug a small part at a time.\n",
    "\n",
    "* Integration tests: once you're satisfied that the different parts work correctly on their own, you need to make sure they work correctly together.\n",
    "\n",
    "It's always better for you to find cases that break your code than for a customer (or employer) to do so."
   ]
  },
  {
   "cell_type": "markdown",
   "metadata": {},
   "source": [
    "## Outline your approach"
   ]
  },
  {
   "cell_type": "markdown",
   "metadata": {},
   "source": [
    "You will want come up with an outline of the steps your code will need to take to meet the requirements. Two useful strategies to help with this are stepwise refinement and working through examples of the problem by hand."
   ]
  },
  {
   "cell_type": "markdown",
   "metadata": {},
   "source": [
    "### Stepwise refinement"
   ]
  },
  {
   "cell_type": "markdown",
   "metadata": {},
   "source": [
    "One of the most common methods for outlining your problem-solving approach is stepwise refinement. This is a process of breaking up the original problem into some number of smaller sub-problems. Next, you take each sub-problem and break it up into even smaller sub-problems. This is repeated until you get a list of steps that are detailed enough to be translated into code. This list of steps is often referred to as pseudocode.\n",
    "\n",
    "As an example of stepwise refinement, consider the problem of wanting to paint your house, which is a big job. It might seem overwhelming at first, but you can break that top-level task into the following sub-tasks:\n",
    "\n",
    "* buy paint\n",
    "* paint house\n",
    "* clean up\n",
    "\n",
    "Those sub-tasks can in turn be broken down further:\n",
    "\n",
    "* buy paint\n",
    "  * choose colors\n",
    "  * choose brand of paint\n",
    "* paint house\n",
    "  * tape over parts that shouldn't get painted\n",
    "  * purchase/borrow supplies (ladders, rollers, etc.)\n",
    "  * bribe friends with pizza\n",
    "  * schedule a day/time\n",
    "  * actually paint the house\n",
    "* clean up\n",
    "  * return/put away supplies\n",
    "  * un-tape the taped bits\n",
    "  * finish any fine detail work\n",
    "\n",
    "This process continues until you've defined everything to a level of detail where you feel comfortable that you know every small step that needs to happen."
   ]
  },
  {
   "cell_type": "markdown",
   "metadata": {},
   "source": [
    "### Work through examples by hand"
   ]
  },
  {
   "cell_type": "markdown",
   "metadata": {},
   "source": [
    "Brains are pretty smart (most of the time). They know how to do lots of stuff without us really being conscious of the steps we're going through to make that stuff happen. In this method, you solve multiple examples of the problem yourself with pencil and paper, paying close attention to each tiny step. Doing this will often help you notice the pattern(s) in how you solve different examples of that problem. This strategy can be used together with stepwise refinement, to help you figure out what the sub-tasks should be."
   ]
  },
  {
   "cell_type": "markdown",
   "metadata": {},
   "source": [
    "### Translate your outline into code"
   ]
  },
  {
   "cell_type": "markdown",
   "metadata": {},
   "source": [
    "Take the outline (or pseudocode) you've created and translate each small sub-task into code, but don't do it all at once (unless it's a tiny program). Instead, you should produce a short section of code and then try running it to see if that part does what you expect. If it does, then you can add another short section and run it again, until you've translated your whole outline. If you avoid making lots of changes at once, it's easier to track down any new bugs that pop up."
   ]
  },
  {
   "cell_type": "markdown",
   "metadata": {},
   "source": [
    "### Run your tests"
   ]
  },
  {
   "cell_type": "markdown",
   "metadata": {},
   "source": [
    "How do you know if your code does what you expect? By running the tests you designed back in step #2. If you've thought of more tests while coding, add those in. The more testing you do, the more bugs you'll catch."
   ]
  },
  {
   "cell_type": "markdown",
   "metadata": {},
   "source": [
    "### Debug your code"
   ]
  },
  {
   "cell_type": "markdown",
   "metadata": {},
   "source": [
    "What if your code doesn't do what you expect? Well then you need to find the problem and fix it. Fortunately, since you're only making a few changes to your code at a time, that means any new problem is almost certainly among those few changes. Often error messages will also give you information about what the problem is and where it occurred. If you don't see the problem at first, try to methodically narrow down where it could be. After making corrections, re-run your tests to make sure that part works now, and that you haven't accidentally broken anything else."
   ]
  },
  {
   "cell_type": "markdown",
   "metadata": {},
   "source": [
    "### Reflect on your process"
   ]
  },
  {
   "cell_type": "markdown",
   "metadata": {},
   "source": [
    "Reflecting on your problem solving process can help you fine tune it to work better next time. What did you learn about the problem as you went? What tests didn't work out the way you expected? What alterations did you have to make to your program due to failed tests? How could your planned tests have been more complete? What was missing or needed to be altered from your initial design, and why? What problems did you encounter during implementation? How were you able to solve those problems? What outside sources (sites, books, or other materials) did you find helpful? How can you generalize any parts of your problem solving experience in a way that might help you on future assignments?"
   ]
  }
 ],
 "metadata": {
  "kernelspec": {
   "display_name": "Python 3",
   "language": "python",
   "name": "python3"
  },
  "language_info": {
   "codemirror_mode": {
    "name": "ipython",
    "version": 3
   },
   "file_extension": ".py",
   "mimetype": "text/x-python",
   "name": "python",
   "nbconvert_exporter": "python",
   "pygments_lexer": "ipython3",
   "version": "3.8.2"
  }
 },
 "nbformat": 4,
 "nbformat_minor": 4
}
