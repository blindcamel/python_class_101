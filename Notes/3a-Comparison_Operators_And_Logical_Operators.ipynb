{
 "cells": [
  {
   "cell_type": "markdown",
   "metadata": {},
   "source": [
    "# Comparison Operators and Logical Operators"
   ]
  },
  {
   "cell_type": "markdown",
   "metadata": {},
   "source": [
    "## Comparison Operators"
   ]
  },
  {
   "cell_type": "markdown",
   "metadata": {},
   "source": [
    "We often need to compare two values. Python has the following comparison operators:\n",
    "\n",
    "    num_1 == num_2 # num_1 equals num_2\n",
    "    num_1 != num_2 # num_1 does not equal num_2\n",
    "    num_1 > num_2 # num_1 is greater than num_2\n",
    "    num_1 < num_2 # num_1 is less than num_2\n",
    "    num_1 >= num_2 # num_1 is greater than or equal to num_2\n",
    "    num_1 <= num_2 # num_1 is less than or equal to num_2"
   ]
  },
  {
   "cell_type": "markdown",
   "metadata": {},
   "source": [
    "Each of the above **conditions** is either True or False, so if you print out the type of the comparison, you'll see that it's a bool. For example:"
   ]
  },
  {
   "cell_type": "code",
   "execution_count": null,
   "metadata": {},
   "outputs": [],
   "source": [
    "17 < 5 # False"
   ]
  },
  {
   "cell_type": "code",
   "execution_count": null,
   "metadata": {},
   "outputs": [],
   "source": [
    "3 != 12 # True"
   ]
  },
  {
   "cell_type": "markdown",
   "metadata": {},
   "source": [
    "Don't mix up the assignment operator (=) and the equality operator (==). It's a common mistake that can be hard to see.\n",
    "\n",
    "**You shouldn't test two floats for exact equality because of possible lack of precision or round-off errors.**  Instead, if you need to compare float values for equality, you can do it like this:\n",
    "\n",
    "    abs(num_1 - num_2) < 0.000001"
   ]
  },
  {
   "cell_type": "markdown",
   "metadata": {},
   "source": [
    "This takes the absolute value of the difference between the two numbers and checks whether it's less than a very small value.  **In this course, whenever an assignment requires you to compute a float value, your result will not be tested for exact equality to the expected result - just for equality to within 7 decimal places.**\n",
    "\n",
    "Unlike many computer languages, Python allows you to chain comparison operators.  In Python you check if x is between 2 and 7 by saying\n",
    "\n",
    "    2 < x < 7\n",
    "    \n",
    "whereas in most languages you would need to write that as\n",
    "\n",
    "    2 < x and x < 7\n",
    "    \n",
    "The logical operator **and** is discussed in the following section."
   ]
  },
  {
   "cell_type": "markdown",
   "metadata": {},
   "source": [
    "## Logical Operators"
   ]
  },
  {
   "cell_type": "markdown",
   "metadata": {},
   "source": [
    "Sometimes we need to combine comparisons. Python has the following logical operators:\n",
    "\n",
    "    bool_1 and bool_2                  # Both bool_1 and bool_2 equal True\n",
    "    bool_1 or bool_2                   # At least one of bool_1 and bool_2 equals True\n",
    "    not bool_1 # bool_1 equals False   # Flips the value of bool_1\n",
    "    \n",
    "Each of these conditions is also either True or False."
   ]
  },
  {
   "cell_type": "code",
   "execution_count": null,
   "metadata": {},
   "outputs": [],
   "source": [
    "17 >= 10 and 5 % 2 == 0   # True and False, which equals False"
   ]
  },
  {
   "cell_type": "code",
   "execution_count": null,
   "metadata": {},
   "outputs": [],
   "source": [
    "17 >= 10 or 5 % 2 == 0    # True or False, which equals True"
   ]
  },
  {
   "cell_type": "code",
   "execution_count": null,
   "metadata": {},
   "outputs": [],
   "source": [
    "not 17 >= 10              # not True, which equals False"
   ]
  },
  {
   "cell_type": "markdown",
   "metadata": {},
   "source": [
    "Assume that P and Q represent two conditions. **P and Q** is only true if P is true **and** Q is true. **P or Q** is true if **either** P is true **or** Q is true (or both). The **not** operator just flips the value from true to false or vice-versa.  So if P is false, then **not P** is true, but if P is true, then **not P** is false.\n",
    "\n",
    "To check if num_x and num_y are both equal to 5, it is **not** correct to do the following:\n",
    "\n",
    "    num_x and num_y == 5  # wrong\n",
    "    \n",
    "since that would check whether x is True and y==5 is True.  Instead, you would need to do this:\n",
    "\n",
    "    num_x == 5 and num_y == 5\n",
    "    \n",
    "or since we know we can chain comparisons:\n",
    "\n",
    "    num_x == num_y == 5"
   ]
  },
  {
   "cell_type": "markdown",
   "metadata": {},
   "source": [
    "## Exercises"
   ]
  },
  {
   "cell_type": "markdown",
   "metadata": {},
   "source": [
    "1. Print the value of 17 < 5."
   ]
  },
  {
   "cell_type": "code",
   "execution_count": null,
   "metadata": {},
   "outputs": [],
   "source": [
    "# type code here\n"
   ]
  },
  {
   "cell_type": "markdown",
   "metadata": {},
   "source": [
    "2. Write code that reads a number from the user, assigns it to a variable, and then prints True if that value is greater than 10, but prints False otherwise."
   ]
  },
  {
   "cell_type": "code",
   "execution_count": null,
   "metadata": {},
   "outputs": [],
   "source": [
    "# type code here\n"
   ]
  },
  {
   "cell_type": "markdown",
   "metadata": {},
   "source": [
    "3. Write code that reads a number from the user, assigns it to a variable, and then prints True if that value is between 50 and 100 (inclusive), but prints False otherwise."
   ]
  },
  {
   "cell_type": "code",
   "execution_count": null,
   "metadata": {},
   "outputs": [],
   "source": [
    "# type code here\n"
   ]
  }
 ],
 "metadata": {
  "kernelspec": {
   "display_name": "Python 3",
   "language": "python",
   "name": "python3"
  },
  "language_info": {
   "codemirror_mode": {
    "name": "ipython",
    "version": 3
   },
   "file_extension": ".py",
   "mimetype": "text/x-python",
   "name": "python",
   "nbconvert_exporter": "python",
   "pygments_lexer": "ipython3",
   "version": "3.8.2"
  }
 },
 "nbformat": 4,
 "nbformat_minor": 4
}
